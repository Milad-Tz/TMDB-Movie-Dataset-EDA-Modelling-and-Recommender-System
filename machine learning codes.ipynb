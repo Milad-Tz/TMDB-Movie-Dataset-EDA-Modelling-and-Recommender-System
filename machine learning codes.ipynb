{
 "cells": [
  {
   "cell_type": "markdown",
   "id": "1b59a8db",
   "metadata": {},
   "source": [
    "# machine learning codes"
   ]
  },
  {
   "cell_type": "code",
   "execution_count": 224,
   "id": "78bcdcca",
   "metadata": {},
   "outputs": [],
   "source": [
    "import pandas as pd\n",
    "import numpy as np\n",
    "import matplotlib.pyplot as plt\n",
    "\n",
    "from sklearn.model_selection import train_test_split\n",
    "from sklearn.model_selection import GridSearchCV\n",
    "from sklearn.ensemble import RandomForestClassifier\n",
    "from sklearn.metrics import accuracy_score\n"
   ]
  },
  {
   "cell_type": "code",
   "execution_count": 366,
   "id": "96508047",
   "metadata": {},
   "outputs": [],
   "source": [
    "# df = pd.read_csv('df_preprocessed.csv')\n",
    "df = pd.read_csv('df_preprocessed.csv')"
   ]
  },
  {
   "cell_type": "code",
   "execution_count": 367,
   "id": "52c8702c",
   "metadata": {},
   "outputs": [
    {
     "data": {
      "text/plain": [
       "Index(['budget', 'genres', 'plot_keywords', 'language', 'original_title',\n",
       "       'overview', 'popularity', 'production_companies',\n",
       "       'production_countries', 'release_date', 'gross', 'duration', 'tagline',\n",
       "       'vote_average', 'num_voted_users', 'country', 'director_name',\n",
       "       'actor_1_name', 'actor_2_name', 'actor_3_name', 'budget_categorized',\n",
       "       'profit', 'profit_categorized', 'Action', 'Adventure', 'Animation',\n",
       "       'Comedy', 'Crime', 'Drama', 'Family', 'Fantasy', 'Horror', 'Mystery',\n",
       "       'Romance', 'Science Fiction', 'Thriller', 'other', 'year',\n",
       "       'years_since_release', 'decade', 'month', 'season',\n",
       "       'production_companies_list', 'actor_list', 'top actors', 'top_director',\n",
       "       'language_summarized', 'vote_average_categorized',\n",
       "       'plot_keywords_list'],\n",
       "      dtype='object')"
      ]
     },
     "execution_count": 367,
     "metadata": {},
     "output_type": "execute_result"
    }
   ],
   "source": [
    "df.columns"
   ]
  },
  {
   "cell_type": "code",
   "execution_count": 368,
   "id": "b51a2ef1",
   "metadata": {},
   "outputs": [],
   "source": [
    "drop_list = ['genres', 'plot_keywords', 'language', 'original_title', 'overview', 'popularity', 'production_companies',\n",
    "             'production_countries', 'release_date', 'gross', 'tagline', 'num_voted_users', 'country', 'director_name', \n",
    "             'num_voted_users', 'country', 'director_name', 'actor_1_name', 'actor_2_name', 'actor_3_name',\n",
    "             'profit', 'year', 'decade', 'month', 'production_companies_list', 'plot_keywords_list', 'vote_average', 'actor_list',\n",
    "             'budget_categorized', 'vote_average_categorized']\n"
   ]
  },
  {
   "cell_type": "code",
   "execution_count": 369,
   "id": "5d29035b",
   "metadata": {},
   "outputs": [],
   "source": [
    "df.drop(drop_list, axis=1, inplace=True)"
   ]
  },
  {
   "cell_type": "code",
   "execution_count": 370,
   "id": "59351ef3",
   "metadata": {},
   "outputs": [
    {
     "data": {
      "text/plain": [
       "Index(['budget', 'duration', 'profit_categorized', 'Action', 'Adventure',\n",
       "       'Animation', 'Comedy', 'Crime', 'Drama', 'Family', 'Fantasy', 'Horror',\n",
       "       'Mystery', 'Romance', 'Science Fiction', 'Thriller', 'other',\n",
       "       'years_since_release', 'season', 'top actors', 'top_director',\n",
       "       'language_summarized'],\n",
       "      dtype='object')"
      ]
     },
     "execution_count": 370,
     "metadata": {},
     "output_type": "execute_result"
    }
   ],
   "source": [
    "df.columns"
   ]
  },
  {
   "cell_type": "code",
   "execution_count": 371,
   "id": "dd517eb2",
   "metadata": {},
   "outputs": [],
   "source": [
    "drop_list_2 = ['Family', 'Fantasy', 'Horror', 'Mystery', 'Romance', 'Science Fiction', 'Thriller', 'other']"
   ]
  },
  {
   "cell_type": "code",
   "execution_count": 372,
   "id": "ed7c4e09",
   "metadata": {},
   "outputs": [],
   "source": [
    "df.drop(drop_list_2, axis=1, inplace=True)"
   ]
  },
  {
   "cell_type": "code",
   "execution_count": 376,
   "id": "5d804bfd",
   "metadata": {},
   "outputs": [],
   "source": [
    "numerical_list = ['budget', 'duration', 'years_since_release']"
   ]
  },
  {
   "cell_type": "code",
   "execution_count": 377,
   "id": "9898e283",
   "metadata": {},
   "outputs": [],
   "source": [
    "categorical_list = []\n",
    "\n",
    "for i in list(df.columns):\n",
    "    if i not in numerical_list:\n",
    "        categorical_list.append(i)"
   ]
  },
  {
   "cell_type": "code",
   "execution_count": 378,
   "id": "4b24fc64",
   "metadata": {
    "scrolled": true
   },
   "outputs": [
    {
     "data": {
      "text/html": [
       "<div>\n",
       "<style scoped>\n",
       "    .dataframe tbody tr th:only-of-type {\n",
       "        vertical-align: middle;\n",
       "    }\n",
       "\n",
       "    .dataframe tbody tr th {\n",
       "        vertical-align: top;\n",
       "    }\n",
       "\n",
       "    .dataframe thead th {\n",
       "        text-align: right;\n",
       "    }\n",
       "</style>\n",
       "<table border=\"1\" class=\"dataframe\">\n",
       "  <thead>\n",
       "    <tr style=\"text-align: right;\">\n",
       "      <th></th>\n",
       "      <th>budget</th>\n",
       "      <th>duration</th>\n",
       "      <th>profit_categorized</th>\n",
       "      <th>Action</th>\n",
       "      <th>Adventure</th>\n",
       "      <th>Animation</th>\n",
       "      <th>Comedy</th>\n",
       "      <th>Crime</th>\n",
       "      <th>Drama</th>\n",
       "      <th>years_since_release</th>\n",
       "      <th>season</th>\n",
       "      <th>top actors</th>\n",
       "      <th>top_director</th>\n",
       "      <th>language_summarized</th>\n",
       "    </tr>\n",
       "  </thead>\n",
       "  <tbody>\n",
       "    <tr>\n",
       "      <th>0</th>\n",
       "      <td>5.472271</td>\n",
       "      <td>162.0</td>\n",
       "      <td>profit</td>\n",
       "      <td>True</td>\n",
       "      <td>True</td>\n",
       "      <td>False</td>\n",
       "      <td>False</td>\n",
       "      <td>False</td>\n",
       "      <td>False</td>\n",
       "      <td>15</td>\n",
       "      <td>winter</td>\n",
       "      <td>0</td>\n",
       "      <td>0</td>\n",
       "      <td>English</td>\n",
       "    </tr>\n",
       "    <tr>\n",
       "      <th>1</th>\n",
       "      <td>5.707110</td>\n",
       "      <td>169.0</td>\n",
       "      <td>profit</td>\n",
       "      <td>True</td>\n",
       "      <td>True</td>\n",
       "      <td>False</td>\n",
       "      <td>False</td>\n",
       "      <td>False</td>\n",
       "      <td>False</td>\n",
       "      <td>17</td>\n",
       "      <td>spring</td>\n",
       "      <td>0</td>\n",
       "      <td>0</td>\n",
       "      <td>English</td>\n",
       "    </tr>\n",
       "    <tr>\n",
       "      <th>2</th>\n",
       "      <td>5.505332</td>\n",
       "      <td>148.0</td>\n",
       "      <td>profit</td>\n",
       "      <td>True</td>\n",
       "      <td>True</td>\n",
       "      <td>False</td>\n",
       "      <td>False</td>\n",
       "      <td>True</td>\n",
       "      <td>False</td>\n",
       "      <td>9</td>\n",
       "      <td>autumn</td>\n",
       "      <td>0</td>\n",
       "      <td>0</td>\n",
       "      <td>Not English</td>\n",
       "    </tr>\n",
       "    <tr>\n",
       "      <th>3</th>\n",
       "      <td>5.525453</td>\n",
       "      <td>165.0</td>\n",
       "      <td>profit</td>\n",
       "      <td>True</td>\n",
       "      <td>False</td>\n",
       "      <td>False</td>\n",
       "      <td>False</td>\n",
       "      <td>True</td>\n",
       "      <td>True</td>\n",
       "      <td>12</td>\n",
       "      <td>summer</td>\n",
       "      <td>0</td>\n",
       "      <td>0</td>\n",
       "      <td>English</td>\n",
       "    </tr>\n",
       "    <tr>\n",
       "      <th>4</th>\n",
       "      <td>5.564520</td>\n",
       "      <td>132.0</td>\n",
       "      <td>no profit</td>\n",
       "      <td>True</td>\n",
       "      <td>True</td>\n",
       "      <td>False</td>\n",
       "      <td>False</td>\n",
       "      <td>False</td>\n",
       "      <td>False</td>\n",
       "      <td>12</td>\n",
       "      <td>spring</td>\n",
       "      <td>0</td>\n",
       "      <td>0</td>\n",
       "      <td>English</td>\n",
       "    </tr>\n",
       "  </tbody>\n",
       "</table>\n",
       "</div>"
      ],
      "text/plain": [
       "     budget  duration profit_categorized  Action  Adventure  Animation  \\\n",
       "0  5.472271     162.0             profit    True       True      False   \n",
       "1  5.707110     169.0             profit    True       True      False   \n",
       "2  5.505332     148.0             profit    True       True      False   \n",
       "3  5.525453     165.0             profit    True      False      False   \n",
       "4  5.564520     132.0          no profit    True       True      False   \n",
       "\n",
       "   Comedy  Crime  Drama  years_since_release  season  top actors  \\\n",
       "0   False  False  False                   15  winter           0   \n",
       "1   False  False  False                   17  spring           0   \n",
       "2   False   True  False                    9  autumn           0   \n",
       "3   False   True   True                   12  summer           0   \n",
       "4   False  False  False                   12  spring           0   \n",
       "\n",
       "   top_director language_summarized  \n",
       "0             0             English  \n",
       "1             0             English  \n",
       "2             0         Not English  \n",
       "3             0             English  \n",
       "4             0             English  "
      ]
     },
     "execution_count": 378,
     "metadata": {},
     "output_type": "execute_result"
    }
   ],
   "source": [
    "df.head()"
   ]
  },
  {
   "cell_type": "code",
   "execution_count": 379,
   "id": "d64451aa",
   "metadata": {},
   "outputs": [
    {
     "name": "stdout",
     "output_type": "stream",
     "text": [
      "<class 'pandas.core.frame.DataFrame'>\n",
      "RangeIndex: 3222 entries, 0 to 3221\n",
      "Data columns (total 14 columns):\n",
      " #   Column               Non-Null Count  Dtype  \n",
      "---  ------               --------------  -----  \n",
      " 0   budget               3222 non-null   float64\n",
      " 1   duration             3222 non-null   float64\n",
      " 2   profit_categorized   3222 non-null   object \n",
      " 3   Action               3222 non-null   bool   \n",
      " 4   Adventure            3222 non-null   bool   \n",
      " 5   Animation            3222 non-null   bool   \n",
      " 6   Comedy               3222 non-null   bool   \n",
      " 7   Crime                3222 non-null   bool   \n",
      " 8   Drama                3222 non-null   bool   \n",
      " 9   years_since_release  3222 non-null   int64  \n",
      " 10  season               3222 non-null   object \n",
      " 11  top actors           3222 non-null   int64  \n",
      " 12  top_director         3222 non-null   int64  \n",
      " 13  language_summarized  3222 non-null   object \n",
      "dtypes: bool(6), float64(2), int64(3), object(3)\n",
      "memory usage: 220.4+ KB\n"
     ]
    }
   ],
   "source": [
    "df.info()"
   ]
  },
  {
   "cell_type": "markdown",
   "id": "dbb73207",
   "metadata": {},
   "source": [
    "## Preprocessing"
   ]
  },
  {
   "cell_type": "code",
   "execution_count": 380,
   "id": "7c9f7c89",
   "metadata": {},
   "outputs": [],
   "source": [
    "from sklearn.preprocessing import StandardScaler"
   ]
  },
  {
   "cell_type": "code",
   "execution_count": 381,
   "id": "e3766855",
   "metadata": {},
   "outputs": [],
   "source": [
    "df.dropna(inplace=True)"
   ]
  },
  {
   "cell_type": "code",
   "execution_count": 382,
   "id": "58c6fc9c",
   "metadata": {},
   "outputs": [
    {
     "name": "stdout",
     "output_type": "stream",
     "text": [
      "<class 'pandas.core.frame.DataFrame'>\n",
      "RangeIndex: 3222 entries, 0 to 3221\n",
      "Data columns (total 14 columns):\n",
      " #   Column               Non-Null Count  Dtype  \n",
      "---  ------               --------------  -----  \n",
      " 0   budget               3222 non-null   float64\n",
      " 1   duration             3222 non-null   float64\n",
      " 2   profit_categorized   3222 non-null   object \n",
      " 3   Action               3222 non-null   bool   \n",
      " 4   Adventure            3222 non-null   bool   \n",
      " 5   Animation            3222 non-null   bool   \n",
      " 6   Comedy               3222 non-null   bool   \n",
      " 7   Crime                3222 non-null   bool   \n",
      " 8   Drama                3222 non-null   bool   \n",
      " 9   years_since_release  3222 non-null   int64  \n",
      " 10  season               3222 non-null   object \n",
      " 11  top actors           3222 non-null   int64  \n",
      " 12  top_director         3222 non-null   int64  \n",
      " 13  language_summarized  3222 non-null   object \n",
      "dtypes: bool(6), float64(2), int64(3), object(3)\n",
      "memory usage: 220.4+ KB\n"
     ]
    }
   ],
   "source": [
    "df.info()"
   ]
  },
  {
   "cell_type": "code",
   "execution_count": 383,
   "id": "dab837fb",
   "metadata": {},
   "outputs": [
    {
     "name": "stderr",
     "output_type": "stream",
     "text": [
      "C:\\Users\\CN\\AppData\\Local\\Temp\\ipykernel_11108\\2094868251.py:1: FutureWarning: Downcasting behavior in `replace` is deprecated and will be removed in a future version. To retain the old behavior, explicitly call `result.infer_objects(copy=False)`. To opt-in to the future behavior, set `pd.set_option('future.no_silent_downcasting', True)`\n",
      "  df['profit_categorized'] = df['profit_categorized'].replace({'profit': 1, 'no profit':0})\n"
     ]
    }
   ],
   "source": [
    "df['profit_categorized'] = df['profit_categorized'].replace({'profit': 1, 'no profit':0})"
   ]
  },
  {
   "cell_type": "code",
   "execution_count": 384,
   "id": "cab29eb6",
   "metadata": {},
   "outputs": [
    {
     "name": "stderr",
     "output_type": "stream",
     "text": [
      "C:\\Users\\CN\\AppData\\Local\\Temp\\ipykernel_11108\\2827277390.py:1: FutureWarning: Downcasting behavior in `replace` is deprecated and will be removed in a future version. To retain the old behavior, explicitly call `result.infer_objects(copy=False)`. To opt-in to the future behavior, set `pd.set_option('future.no_silent_downcasting', True)`\n",
      "  df['language_summarized'] = df['language_summarized'].replace({'English': 1, 'Not English':0})\n"
     ]
    }
   ],
   "source": [
    "df['language_summarized'] = df['language_summarized'].replace({'English': 1, 'Not English':0})"
   ]
  },
  {
   "cell_type": "code",
   "execution_count": 385,
   "id": "067da41e",
   "metadata": {},
   "outputs": [
    {
     "data": {
      "text/html": [
       "<div>\n",
       "<style scoped>\n",
       "    .dataframe tbody tr th:only-of-type {\n",
       "        vertical-align: middle;\n",
       "    }\n",
       "\n",
       "    .dataframe tbody tr th {\n",
       "        vertical-align: top;\n",
       "    }\n",
       "\n",
       "    .dataframe thead th {\n",
       "        text-align: right;\n",
       "    }\n",
       "</style>\n",
       "<table border=\"1\" class=\"dataframe\">\n",
       "  <thead>\n",
       "    <tr style=\"text-align: right;\">\n",
       "      <th></th>\n",
       "      <th>budget</th>\n",
       "      <th>duration</th>\n",
       "      <th>profit_categorized</th>\n",
       "      <th>Action</th>\n",
       "      <th>Adventure</th>\n",
       "      <th>Animation</th>\n",
       "      <th>Comedy</th>\n",
       "      <th>Crime</th>\n",
       "      <th>Drama</th>\n",
       "      <th>years_since_release</th>\n",
       "      <th>top actors</th>\n",
       "      <th>top_director</th>\n",
       "      <th>language_summarized</th>\n",
       "      <th>season_autumn</th>\n",
       "      <th>season_spring</th>\n",
       "      <th>season_summer</th>\n",
       "      <th>season_winter</th>\n",
       "    </tr>\n",
       "  </thead>\n",
       "  <tbody>\n",
       "    <tr>\n",
       "      <th>0</th>\n",
       "      <td>5.472271</td>\n",
       "      <td>162.0</td>\n",
       "      <td>1</td>\n",
       "      <td>True</td>\n",
       "      <td>True</td>\n",
       "      <td>False</td>\n",
       "      <td>False</td>\n",
       "      <td>False</td>\n",
       "      <td>False</td>\n",
       "      <td>15</td>\n",
       "      <td>0</td>\n",
       "      <td>0</td>\n",
       "      <td>1</td>\n",
       "      <td>0</td>\n",
       "      <td>0</td>\n",
       "      <td>0</td>\n",
       "      <td>1</td>\n",
       "    </tr>\n",
       "    <tr>\n",
       "      <th>1</th>\n",
       "      <td>5.707110</td>\n",
       "      <td>169.0</td>\n",
       "      <td>1</td>\n",
       "      <td>True</td>\n",
       "      <td>True</td>\n",
       "      <td>False</td>\n",
       "      <td>False</td>\n",
       "      <td>False</td>\n",
       "      <td>False</td>\n",
       "      <td>17</td>\n",
       "      <td>0</td>\n",
       "      <td>0</td>\n",
       "      <td>1</td>\n",
       "      <td>0</td>\n",
       "      <td>1</td>\n",
       "      <td>0</td>\n",
       "      <td>0</td>\n",
       "    </tr>\n",
       "    <tr>\n",
       "      <th>2</th>\n",
       "      <td>5.505332</td>\n",
       "      <td>148.0</td>\n",
       "      <td>1</td>\n",
       "      <td>True</td>\n",
       "      <td>True</td>\n",
       "      <td>False</td>\n",
       "      <td>False</td>\n",
       "      <td>True</td>\n",
       "      <td>False</td>\n",
       "      <td>9</td>\n",
       "      <td>0</td>\n",
       "      <td>0</td>\n",
       "      <td>0</td>\n",
       "      <td>1</td>\n",
       "      <td>0</td>\n",
       "      <td>0</td>\n",
       "      <td>0</td>\n",
       "    </tr>\n",
       "    <tr>\n",
       "      <th>3</th>\n",
       "      <td>5.525453</td>\n",
       "      <td>165.0</td>\n",
       "      <td>1</td>\n",
       "      <td>True</td>\n",
       "      <td>False</td>\n",
       "      <td>False</td>\n",
       "      <td>False</td>\n",
       "      <td>True</td>\n",
       "      <td>True</td>\n",
       "      <td>12</td>\n",
       "      <td>0</td>\n",
       "      <td>0</td>\n",
       "      <td>1</td>\n",
       "      <td>0</td>\n",
       "      <td>0</td>\n",
       "      <td>1</td>\n",
       "      <td>0</td>\n",
       "    </tr>\n",
       "    <tr>\n",
       "      <th>4</th>\n",
       "      <td>5.564520</td>\n",
       "      <td>132.0</td>\n",
       "      <td>0</td>\n",
       "      <td>True</td>\n",
       "      <td>True</td>\n",
       "      <td>False</td>\n",
       "      <td>False</td>\n",
       "      <td>False</td>\n",
       "      <td>False</td>\n",
       "      <td>12</td>\n",
       "      <td>0</td>\n",
       "      <td>0</td>\n",
       "      <td>1</td>\n",
       "      <td>0</td>\n",
       "      <td>1</td>\n",
       "      <td>0</td>\n",
       "      <td>0</td>\n",
       "    </tr>\n",
       "  </tbody>\n",
       "</table>\n",
       "</div>"
      ],
      "text/plain": [
       "     budget  duration  profit_categorized  Action  Adventure  Animation  \\\n",
       "0  5.472271     162.0                   1    True       True      False   \n",
       "1  5.707110     169.0                   1    True       True      False   \n",
       "2  5.505332     148.0                   1    True       True      False   \n",
       "3  5.525453     165.0                   1    True      False      False   \n",
       "4  5.564520     132.0                   0    True       True      False   \n",
       "\n",
       "   Comedy  Crime  Drama  years_since_release  top actors  top_director  \\\n",
       "0   False  False  False                   15           0             0   \n",
       "1   False  False  False                   17           0             0   \n",
       "2   False   True  False                    9           0             0   \n",
       "3   False   True   True                   12           0             0   \n",
       "4   False  False  False                   12           0             0   \n",
       "\n",
       "   language_summarized  season_autumn  season_spring  season_summer  \\\n",
       "0                    1              0              0              0   \n",
       "1                    1              0              1              0   \n",
       "2                    0              1              0              0   \n",
       "3                    1              0              0              1   \n",
       "4                    1              0              1              0   \n",
       "\n",
       "   season_winter  \n",
       "0              1  \n",
       "1              0  \n",
       "2              0  \n",
       "3              0  \n",
       "4              0  "
      ]
     },
     "execution_count": 385,
     "metadata": {},
     "output_type": "execute_result"
    }
   ],
   "source": [
    "# one hot encoding categorical features\n",
    "columns_to_encode = ['season']\n",
    "df_onehot = pd.get_dummies(df, columns=columns_to_encode, dtype=int)\n",
    "df_onehot.head()"
   ]
  },
  {
   "cell_type": "code",
   "execution_count": 386,
   "id": "36026cb2",
   "metadata": {},
   "outputs": [
    {
     "name": "stdout",
     "output_type": "stream",
     "text": [
      "<class 'pandas.core.frame.DataFrame'>\n",
      "RangeIndex: 3222 entries, 0 to 3221\n",
      "Data columns (total 17 columns):\n",
      " #   Column               Non-Null Count  Dtype  \n",
      "---  ------               --------------  -----  \n",
      " 0   budget               3222 non-null   float64\n",
      " 1   duration             3222 non-null   float64\n",
      " 2   profit_categorized   3222 non-null   int64  \n",
      " 3   Action               3222 non-null   bool   \n",
      " 4   Adventure            3222 non-null   bool   \n",
      " 5   Animation            3222 non-null   bool   \n",
      " 6   Comedy               3222 non-null   bool   \n",
      " 7   Crime                3222 non-null   bool   \n",
      " 8   Drama                3222 non-null   bool   \n",
      " 9   years_since_release  3222 non-null   int64  \n",
      " 10  top actors           3222 non-null   int64  \n",
      " 11  top_director         3222 non-null   int64  \n",
      " 12  language_summarized  3222 non-null   int64  \n",
      " 13  season_autumn        3222 non-null   int32  \n",
      " 14  season_spring        3222 non-null   int32  \n",
      " 15  season_summer        3222 non-null   int32  \n",
      " 16  season_winter        3222 non-null   int32  \n",
      "dtypes: bool(6), float64(2), int32(4), int64(5)\n",
      "memory usage: 245.6 KB\n"
     ]
    }
   ],
   "source": [
    "df_onehot.info()"
   ]
  },
  {
   "cell_type": "code",
   "execution_count": 387,
   "id": "94889278",
   "metadata": {},
   "outputs": [
    {
     "data": {
      "text/plain": [
       "Index(['budget', 'duration', 'profit_categorized', 'Action', 'Adventure',\n",
       "       'Animation', 'Comedy', 'Crime', 'Drama', 'years_since_release',\n",
       "       'top actors', 'top_director', 'language_summarized', 'season_autumn',\n",
       "       'season_spring', 'season_summer', 'season_winter'],\n",
       "      dtype='object')"
      ]
     },
     "execution_count": 387,
     "metadata": {},
     "output_type": "execute_result"
    }
   ],
   "source": [
    "df_onehot.columns"
   ]
  },
  {
   "cell_type": "code",
   "execution_count": 351,
   "id": "675da54c",
   "metadata": {},
   "outputs": [
    {
     "data": {
      "text/plain": [
       "\"\\ncategory_list = ['profit_categorized'] # , 'language_summarized'\\ncategory_list_2 = ['profit_categorized', 'Action',\\n       'Adventure', 'Animation', 'Comedy', 'Crime', 'Documentary', 'Drama',\\n       'Family', 'Fantasy', 'Foreign', 'History', 'Horror', 'Music', 'Mystery',\\n       'Romance', 'Science Fiction', 'TV Movie', 'Thriller', 'War', 'Western',\\n       'other', 'language_summarized', 'top actors',\\n       'top_director', 'season_autumn', 'season_spring', 'season_summer',\\n       'season_winter']\\nfor i in category_list_2:\\n    df_onehot[i] = df_onehot[i].astype('category')\\n\""
      ]
     },
     "execution_count": 351,
     "metadata": {},
     "output_type": "execute_result"
    }
   ],
   "source": [
    "'''\n",
    "category_list = ['profit_categorized'] # , 'language_summarized'\n",
    "category_list_2 = ['profit_categorized', 'Action',\n",
    "       'Adventure', 'Animation', 'Comedy', 'Crime', 'Documentary', 'Drama',\n",
    "       'Family', 'Fantasy', 'Foreign', 'History', 'Horror', 'Music', 'Mystery',\n",
    "       'Romance', 'Science Fiction', 'TV Movie', 'Thriller', 'War', 'Western',\n",
    "       'other', 'language_summarized', 'top actors',\n",
    "       'top_director', 'season_autumn', 'season_spring', 'season_summer',\n",
    "       'season_winter']\n",
    "for i in category_list_2:\n",
    "    df_onehot[i] = df_onehot[i].astype('category')\n",
    "'''"
   ]
  },
  {
   "cell_type": "code",
   "execution_count": 388,
   "id": "9a12c6d8",
   "metadata": {},
   "outputs": [
    {
     "name": "stdout",
     "output_type": "stream",
     "text": [
      "<class 'pandas.core.frame.DataFrame'>\n",
      "RangeIndex: 3222 entries, 0 to 3221\n",
      "Data columns (total 17 columns):\n",
      " #   Column               Non-Null Count  Dtype  \n",
      "---  ------               --------------  -----  \n",
      " 0   budget               3222 non-null   float64\n",
      " 1   duration             3222 non-null   float64\n",
      " 2   profit_categorized   3222 non-null   int64  \n",
      " 3   Action               3222 non-null   bool   \n",
      " 4   Adventure            3222 non-null   bool   \n",
      " 5   Animation            3222 non-null   bool   \n",
      " 6   Comedy               3222 non-null   bool   \n",
      " 7   Crime                3222 non-null   bool   \n",
      " 8   Drama                3222 non-null   bool   \n",
      " 9   years_since_release  3222 non-null   int64  \n",
      " 10  top actors           3222 non-null   int64  \n",
      " 11  top_director         3222 non-null   int64  \n",
      " 12  language_summarized  3222 non-null   int64  \n",
      " 13  season_autumn        3222 non-null   int32  \n",
      " 14  season_spring        3222 non-null   int32  \n",
      " 15  season_summer        3222 non-null   int32  \n",
      " 16  season_winter        3222 non-null   int32  \n",
      "dtypes: bool(6), float64(2), int32(4), int64(5)\n",
      "memory usage: 245.6 KB\n"
     ]
    }
   ],
   "source": [
    "df_onehot.info()"
   ]
  },
  {
   "cell_type": "code",
   "execution_count": 389,
   "id": "6e06f548",
   "metadata": {},
   "outputs": [
    {
     "data": {
      "text/plain": [
       "profit_categorized\n",
       "1    2285\n",
       "0     937\n",
       "Name: count, dtype: int64"
      ]
     },
     "execution_count": 389,
     "metadata": {},
     "output_type": "execute_result"
    }
   ],
   "source": [
    "df_onehot['profit_categorized'].value_counts()"
   ]
  },
  {
   "cell_type": "code",
   "execution_count": 390,
   "id": "6ff28b86",
   "metadata": {},
   "outputs": [],
   "source": [
    "# peak 10000 data from each class as train data\n",
    "\n",
    "class_0_count = 800\n",
    "class_1_count = 2000\n",
    "\n",
    "df=df_onehot.copy()\n",
    "target_col='profit_categorized'\n",
    "\n",
    "# Separate data by class\n",
    "noprofit_data = df[df[target_col] == 0].sample(n=class_0_count, random_state=42)\n",
    "profit_data = df[df[target_col] == 1].sample(n=class_1_count, random_state=42)\n",
    "\n",
    "\n",
    "# Combine data from each class into training data\n",
    "train_data = pd.concat([noprofit_data, profit_data])\n",
    "\n",
    "# Remove training data from original data to create testing data\n",
    "test_data = df.drop(train_data.index)\n",
    "\n"
   ]
  },
  {
   "cell_type": "code",
   "execution_count": 391,
   "id": "8013cc33",
   "metadata": {},
   "outputs": [],
   "source": [
    "from sklearn.utils import resample\n",
    "\n",
    "# Upsample the minority class (1) to match the count of the majority class (0)\n",
    "\n",
    "\n",
    "# Separate majority and minority classes\n",
    "class_0 = train_data[train_data['profit_categorized'] == 0]\n",
    "class_1 = train_data[train_data['profit_categorized'] == 1]\n",
    "\n",
    "# Upsample minority class\n",
    "class_0_upsampled = resample(class_0,\n",
    "                             replace=True,  # Sample with replacement\n",
    "                             n_samples=class_1_count,  # Match the count of majority class\n",
    "                             random_state=42)  # For reproducibility\n",
    "\n",
    "# Combine majority class with upsampled minority class\n",
    "upsampled_train_data = pd.concat([class_1, class_0_upsampled])\n"
   ]
  },
  {
   "cell_type": "code",
   "execution_count": 392,
   "id": "221ab301",
   "metadata": {},
   "outputs": [],
   "source": [
    "# Separate features and target variable\n",
    "X_train = upsampled_train_data.drop([target_col], axis=1)\n",
    "y_train = upsampled_train_data[target_col]\n",
    "\n",
    "X_test = test_data.drop([target_col], axis=1)\n",
    "y_test = test_data[target_col]"
   ]
  },
  {
   "cell_type": "code",
   "execution_count": 393,
   "id": "865f70e4",
   "metadata": {},
   "outputs": [
    {
     "data": {
      "text/plain": [
       "profit_categorized\n",
       "1    2000\n",
       "0    2000\n",
       "Name: count, dtype: int64"
      ]
     },
     "execution_count": 393,
     "metadata": {},
     "output_type": "execute_result"
    }
   ],
   "source": [
    "upsampled_train_data['profit_categorized'].value_counts()"
   ]
  },
  {
   "cell_type": "code",
   "execution_count": 358,
   "id": "42f1f854",
   "metadata": {},
   "outputs": [],
   "source": [
    "y = df_onehot['profit_categorized']\n",
    "X = df_onehot.drop(['profit_categorized'], axis=1)"
   ]
  },
  {
   "cell_type": "code",
   "execution_count": 359,
   "id": "a74aea12",
   "metadata": {},
   "outputs": [],
   "source": [
    "# Split the data\n",
    "X_train, X_test, y_train, y_test = train_test_split(X, y, test_size=0.2, random_state=42)\n"
   ]
  },
  {
   "cell_type": "code",
   "execution_count": 360,
   "id": "39e6fae1",
   "metadata": {},
   "outputs": [
    {
     "data": {
      "text/html": [
       "<div>\n",
       "<style scoped>\n",
       "    .dataframe tbody tr th:only-of-type {\n",
       "        vertical-align: middle;\n",
       "    }\n",
       "\n",
       "    .dataframe tbody tr th {\n",
       "        vertical-align: top;\n",
       "    }\n",
       "\n",
       "    .dataframe thead th {\n",
       "        text-align: right;\n",
       "    }\n",
       "</style>\n",
       "<table border=\"1\" class=\"dataframe\">\n",
       "  <thead>\n",
       "    <tr style=\"text-align: right;\">\n",
       "      <th></th>\n",
       "      <th>budget</th>\n",
       "      <th>duration</th>\n",
       "      <th>Action</th>\n",
       "      <th>Adventure</th>\n",
       "      <th>Animation</th>\n",
       "      <th>Comedy</th>\n",
       "      <th>Crime</th>\n",
       "      <th>Drama</th>\n",
       "      <th>years_since_release</th>\n",
       "      <th>top actors</th>\n",
       "      <th>top_director</th>\n",
       "      <th>language_summarized</th>\n",
       "      <th>season_autumn</th>\n",
       "      <th>season_spring</th>\n",
       "      <th>season_summer</th>\n",
       "      <th>season_winter</th>\n",
       "    </tr>\n",
       "  </thead>\n",
       "  <tbody>\n",
       "    <tr>\n",
       "      <th>3000</th>\n",
       "      <td>1.5</td>\n",
       "      <td>78.0</td>\n",
       "      <td>False</td>\n",
       "      <td>False</td>\n",
       "      <td>False</td>\n",
       "      <td>False</td>\n",
       "      <td>False</td>\n",
       "      <td>False</td>\n",
       "      <td>17</td>\n",
       "      <td>0</td>\n",
       "      <td>0</td>\n",
       "      <td>0</td>\n",
       "      <td>0</td>\n",
       "      <td>1</td>\n",
       "      <td>0</td>\n",
       "      <td>0</td>\n",
       "    </tr>\n",
       "    <tr>\n",
       "      <th>366</th>\n",
       "      <td>92.0</td>\n",
       "      <td>126.0</td>\n",
       "      <td>True</td>\n",
       "      <td>False</td>\n",
       "      <td>False</td>\n",
       "      <td>False</td>\n",
       "      <td>True</td>\n",
       "      <td>False</td>\n",
       "      <td>23</td>\n",
       "      <td>1</td>\n",
       "      <td>1</td>\n",
       "      <td>0</td>\n",
       "      <td>1</td>\n",
       "      <td>0</td>\n",
       "      <td>0</td>\n",
       "      <td>0</td>\n",
       "    </tr>\n",
       "    <tr>\n",
       "      <th>1965</th>\n",
       "      <td>18.0</td>\n",
       "      <td>95.0</td>\n",
       "      <td>False</td>\n",
       "      <td>False</td>\n",
       "      <td>False</td>\n",
       "      <td>True</td>\n",
       "      <td>False</td>\n",
       "      <td>False</td>\n",
       "      <td>21</td>\n",
       "      <td>0</td>\n",
       "      <td>1</td>\n",
       "      <td>1</td>\n",
       "      <td>0</td>\n",
       "      <td>0</td>\n",
       "      <td>0</td>\n",
       "      <td>1</td>\n",
       "    </tr>\n",
       "    <tr>\n",
       "      <th>29</th>\n",
       "      <td>200.0</td>\n",
       "      <td>143.0</td>\n",
       "      <td>True</td>\n",
       "      <td>True</td>\n",
       "      <td>False</td>\n",
       "      <td>False</td>\n",
       "      <td>False</td>\n",
       "      <td>False</td>\n",
       "      <td>12</td>\n",
       "      <td>0</td>\n",
       "      <td>0</td>\n",
       "      <td>1</td>\n",
       "      <td>1</td>\n",
       "      <td>0</td>\n",
       "      <td>0</td>\n",
       "      <td>0</td>\n",
       "    </tr>\n",
       "    <tr>\n",
       "      <th>2689</th>\n",
       "      <td>6.0</td>\n",
       "      <td>139.0</td>\n",
       "      <td>False</td>\n",
       "      <td>False</td>\n",
       "      <td>False</td>\n",
       "      <td>True</td>\n",
       "      <td>False</td>\n",
       "      <td>False</td>\n",
       "      <td>60</td>\n",
       "      <td>0</td>\n",
       "      <td>0</td>\n",
       "      <td>1</td>\n",
       "      <td>0</td>\n",
       "      <td>0</td>\n",
       "      <td>1</td>\n",
       "      <td>0</td>\n",
       "    </tr>\n",
       "  </tbody>\n",
       "</table>\n",
       "</div>"
      ],
      "text/plain": [
       "      budget  duration  Action  Adventure  Animation  Comedy  Crime  Drama  \\\n",
       "3000     1.5      78.0   False      False      False   False  False  False   \n",
       "366     92.0     126.0    True      False      False   False   True  False   \n",
       "1965    18.0      95.0   False      False      False    True  False  False   \n",
       "29     200.0     143.0    True       True      False   False  False  False   \n",
       "2689     6.0     139.0   False      False      False    True  False  False   \n",
       "\n",
       "      years_since_release  top actors  top_director  language_summarized  \\\n",
       "3000                   17           0             0                    0   \n",
       "366                    23           1             1                    0   \n",
       "1965                   21           0             1                    1   \n",
       "29                     12           0             0                    1   \n",
       "2689                   60           0             0                    1   \n",
       "\n",
       "      season_autumn  season_spring  season_summer  season_winter  \n",
       "3000              0              1              0              0  \n",
       "366               1              0              0              0  \n",
       "1965              0              0              0              1  \n",
       "29                1              0              0              0  \n",
       "2689              0              0              1              0  "
      ]
     },
     "execution_count": 360,
     "metadata": {},
     "output_type": "execute_result"
    }
   ],
   "source": [
    "X_train.head()"
   ]
  },
  {
   "cell_type": "code",
   "execution_count": 361,
   "id": "b650f495",
   "metadata": {},
   "outputs": [],
   "source": [
    "scaler = StandardScaler()"
   ]
  },
  {
   "cell_type": "code",
   "execution_count": 394,
   "id": "9e1f7af2",
   "metadata": {},
   "outputs": [],
   "source": [
    "# Initialize the scaler\n",
    "scaler = StandardScaler()  # or any other scaler you prefer\n",
    "\n",
    "# Fit and transform the training data\n",
    "X_train[numerical_list] = scaler.fit_transform(X_train[numerical_list])\n",
    "\n",
    "# Transform the test data using the scaler fitted on the training data\n",
    "X_test[numerical_list] = scaler.transform(X_test[numerical_list])"
   ]
  },
  {
   "cell_type": "code",
   "execution_count": 363,
   "id": "f4c51aee",
   "metadata": {},
   "outputs": [
    {
     "data": {
      "text/html": [
       "<div>\n",
       "<style scoped>\n",
       "    .dataframe tbody tr th:only-of-type {\n",
       "        vertical-align: middle;\n",
       "    }\n",
       "\n",
       "    .dataframe tbody tr th {\n",
       "        vertical-align: top;\n",
       "    }\n",
       "\n",
       "    .dataframe thead th {\n",
       "        text-align: right;\n",
       "    }\n",
       "</style>\n",
       "<table border=\"1\" class=\"dataframe\">\n",
       "  <thead>\n",
       "    <tr style=\"text-align: right;\">\n",
       "      <th></th>\n",
       "      <th>budget</th>\n",
       "      <th>duration</th>\n",
       "      <th>Action</th>\n",
       "      <th>Adventure</th>\n",
       "      <th>Animation</th>\n",
       "      <th>Comedy</th>\n",
       "      <th>Crime</th>\n",
       "      <th>Drama</th>\n",
       "      <th>years_since_release</th>\n",
       "      <th>top actors</th>\n",
       "      <th>top_director</th>\n",
       "      <th>language_summarized</th>\n",
       "      <th>season_autumn</th>\n",
       "      <th>season_spring</th>\n",
       "      <th>season_summer</th>\n",
       "      <th>season_winter</th>\n",
       "    </tr>\n",
       "  </thead>\n",
       "  <tbody>\n",
       "    <tr>\n",
       "      <th>3000</th>\n",
       "      <td>-0.879054</td>\n",
       "      <td>-1.591118</td>\n",
       "      <td>False</td>\n",
       "      <td>False</td>\n",
       "      <td>False</td>\n",
       "      <td>False</td>\n",
       "      <td>False</td>\n",
       "      <td>False</td>\n",
       "      <td>-0.412534</td>\n",
       "      <td>0</td>\n",
       "      <td>0</td>\n",
       "      <td>0</td>\n",
       "      <td>0</td>\n",
       "      <td>1</td>\n",
       "      <td>0</td>\n",
       "      <td>0</td>\n",
       "    </tr>\n",
       "    <tr>\n",
       "      <th>366</th>\n",
       "      <td>1.204023</td>\n",
       "      <td>0.747046</td>\n",
       "      <td>True</td>\n",
       "      <td>False</td>\n",
       "      <td>False</td>\n",
       "      <td>False</td>\n",
       "      <td>True</td>\n",
       "      <td>False</td>\n",
       "      <td>0.043276</td>\n",
       "      <td>1</td>\n",
       "      <td>1</td>\n",
       "      <td>0</td>\n",
       "      <td>1</td>\n",
       "      <td>0</td>\n",
       "      <td>0</td>\n",
       "      <td>0</td>\n",
       "    </tr>\n",
       "    <tr>\n",
       "      <th>1965</th>\n",
       "      <td>-0.499266</td>\n",
       "      <td>-0.763018</td>\n",
       "      <td>False</td>\n",
       "      <td>False</td>\n",
       "      <td>False</td>\n",
       "      <td>True</td>\n",
       "      <td>False</td>\n",
       "      <td>False</td>\n",
       "      <td>-0.108661</td>\n",
       "      <td>0</td>\n",
       "      <td>1</td>\n",
       "      <td>1</td>\n",
       "      <td>0</td>\n",
       "      <td>0</td>\n",
       "      <td>0</td>\n",
       "      <td>1</td>\n",
       "    </tr>\n",
       "    <tr>\n",
       "      <th>29</th>\n",
       "      <td>3.689904</td>\n",
       "      <td>1.575145</td>\n",
       "      <td>True</td>\n",
       "      <td>True</td>\n",
       "      <td>False</td>\n",
       "      <td>False</td>\n",
       "      <td>False</td>\n",
       "      <td>False</td>\n",
       "      <td>-0.792375</td>\n",
       "      <td>0</td>\n",
       "      <td>0</td>\n",
       "      <td>1</td>\n",
       "      <td>1</td>\n",
       "      <td>0</td>\n",
       "      <td>0</td>\n",
       "      <td>0</td>\n",
       "    </tr>\n",
       "    <tr>\n",
       "      <th>2689</th>\n",
       "      <td>-0.775475</td>\n",
       "      <td>1.380298</td>\n",
       "      <td>False</td>\n",
       "      <td>False</td>\n",
       "      <td>False</td>\n",
       "      <td>True</td>\n",
       "      <td>False</td>\n",
       "      <td>False</td>\n",
       "      <td>2.854100</td>\n",
       "      <td>0</td>\n",
       "      <td>0</td>\n",
       "      <td>1</td>\n",
       "      <td>0</td>\n",
       "      <td>0</td>\n",
       "      <td>1</td>\n",
       "      <td>0</td>\n",
       "    </tr>\n",
       "  </tbody>\n",
       "</table>\n",
       "</div>"
      ],
      "text/plain": [
       "        budget  duration  Action  Adventure  Animation  Comedy  Crime  Drama  \\\n",
       "3000 -0.879054 -1.591118   False      False      False   False  False  False   \n",
       "366   1.204023  0.747046    True      False      False   False   True  False   \n",
       "1965 -0.499266 -0.763018   False      False      False    True  False  False   \n",
       "29    3.689904  1.575145    True       True      False   False  False  False   \n",
       "2689 -0.775475  1.380298   False      False      False    True  False  False   \n",
       "\n",
       "      years_since_release  top actors  top_director  language_summarized  \\\n",
       "3000            -0.412534           0             0                    0   \n",
       "366              0.043276           1             1                    0   \n",
       "1965            -0.108661           0             1                    1   \n",
       "29              -0.792375           0             0                    1   \n",
       "2689             2.854100           0             0                    1   \n",
       "\n",
       "      season_autumn  season_spring  season_summer  season_winter  \n",
       "3000              0              1              0              0  \n",
       "366               1              0              0              0  \n",
       "1965              0              0              0              1  \n",
       "29                1              0              0              0  \n",
       "2689              0              0              1              0  "
      ]
     },
     "execution_count": 363,
     "metadata": {},
     "output_type": "execute_result"
    }
   ],
   "source": [
    "X_train.head()"
   ]
  },
  {
   "cell_type": "code",
   "execution_count": 395,
   "id": "eb387906",
   "metadata": {},
   "outputs": [],
   "source": [
    "from sklearn.model_selection import GridSearchCV\n",
    "from sklearn.metrics import accuracy_score, precision_score, recall_score, f1_score, confusion_matrix\n",
    "from sklearn.metrics import roc_curve, auc\n",
    "\n",
    "# Function to perform hyperparameter tuning and return the best parameters\n",
    "def tune_hyperparameters(model, param_grid, X_train, y_train, cv=5):\n",
    "    \"\"\"\n",
    "    Perform hyperparameter tuning using grid search and return the best parameters.\n",
    "    \n",
    "    Args:\n",
    "    - model: The machine learning model.\n",
    "    - param_grid: The parameter grid for grid search.\n",
    "    - X_train: The training features.\n",
    "    - y_train: The training labels.\n",
    "    \n",
    "    Returns:\n",
    "    - best_params: The best parameters found by grid search.\n",
    "    \"\"\"\n",
    "    grid_search = GridSearchCV(estimator=model, param_grid=param_grid, cv=cv, n_jobs=-1)\n",
    "    grid_search.fit(X_train, y_train)\n",
    "    best_params = grid_search.best_params_\n",
    "    return best_params\n",
    "\n",
    "# Function to train the model using the best parameters\n",
    "def train_model(model, best_params, X_train, y_train):\n",
    "    \"\"\"\n",
    "    Train the model using the best parameters.\n",
    "    \n",
    "    Args:\n",
    "    - model: The machine learning model.\n",
    "    - best_params: The best parameters obtained from hyperparameter tuning.\n",
    "    - X_train: The training features.\n",
    "    - y_train: The training labels.\n",
    "    \n",
    "    Returns:\n",
    "    - model: The trained model.\n",
    "    \"\"\"\n",
    "    model.set_params(**best_params)\n",
    "    model.fit(X_train, y_train)\n",
    "    return model\n",
    "\n",
    "# Function to evaluate the model\n",
    "def evaluate_model(model, X_test, y_test):\n",
    "    \"\"\"\n",
    "    Evaluate the model on test data and return evaluation metrics.\n",
    "    \n",
    "    Args:\n",
    "    - model: The trained machine learning model.\n",
    "    - X_test: The test features.\n",
    "    - y_test: The test labels.\n",
    "    \n",
    "    Returns:\n",
    "    - accuracy: Accuracy of the model.\n",
    "    - precision: Precision of the model.\n",
    "    - recall: Recall of the model.\n",
    "    - f1: F1-score of the model.\n",
    "    - confusion_mat: Confusion matrix of the model.\n",
    "    \"\"\"\n",
    "    y_pred = model.predict(X_test)\n",
    "    accuracy = accuracy_score(y_test, y_pred)\n",
    "    precision = precision_score(y_test, y_pred, average='weighted')\n",
    "    recall = recall_score(y_test, y_pred, average='weighted')\n",
    "    f1 = f1_score(y_test, y_pred, average='weighted')\n",
    "    \n",
    "    y_prob = model.predict_proba(X_test)\n",
    "    fpr, tpr, _ = roc_curve(y_test, y_prob[:, 1])\n",
    "    \n",
    "    confusion_mat = confusion_matrix(y_test, y_pred)\n",
    "    \n",
    "    return accuracy, precision, recall, f1, confusion_mat, fpr, tpr\n",
    "\n",
    "# Main function to combine the above functions\n",
    "def evaluate_model_pipeline(model, param_grid, X_train, X_test, y_train, y_test):\n",
    "    \"\"\"\n",
    "    Main function to perform hyperparameter tuning, model training, and evaluation.\n",
    "    \n",
    "    Args:\n",
    "    - model: The machine learning model.\n",
    "    - param_grid: The parameter grid for hyperparameter tuning.\n",
    "    - X_train: The training features.\n",
    "    - X_test: The test features.\n",
    "    - y_train: The training labels.\n",
    "    - y_test: The test labels.\n",
    "    \"\"\"\n",
    "    best_params = tune_hyperparameters(model, param_grid, X_train, y_train)\n",
    "    trained_model = train_model(model, best_params, X_train, y_train)\n",
    "    accuracy, precision, recall, f1, confusion_mat, fpr, tpr = evaluate_model(trained_model, X_test, y_test)\n",
    "    \n",
    "    print(\"Best Parameters:\", best_params)\n",
    "    print(\"Accuracy:\", accuracy)\n",
    "    print(\"Precision:\", precision)\n",
    "    print(\"Recall:\", recall)\n",
    "    print(\"F1-Score:\", f1)\n",
    "    print(\"Confusion Matrix:\\n\", confusion_mat)"
   ]
  },
  {
   "cell_type": "code",
   "execution_count": 396,
   "id": "7d35fcb8",
   "metadata": {},
   "outputs": [
    {
     "name": "stdout",
     "output_type": "stream",
     "text": [
      "Best Parameters: {'min_samples_leaf': 4, 'min_samples_split': 2, 'n_estimators': 70}\n",
      "Accuracy: 0.6303317535545023\n",
      "Precision: 0.6178467820894958\n",
      "Recall: 0.6303317535545023\n",
      "F1-Score: 0.6229937917109972\n",
      "Confusion Matrix:\n",
      " [[ 50  87]\n",
      " [ 69 216]]\n"
     ]
    }
   ],
   "source": [
    "# Define the parameter grid for Random Forest\n",
    "param_grid = {\n",
    "    'n_estimators': [100, 80, 70],\n",
    "    'min_samples_split': [2, 4, 6, 10],\n",
    "    'min_samples_leaf': [4, 6, 8]\n",
    "}\n",
    "\n",
    "# Initialize Random Forest model\n",
    "rf = RandomForestClassifier()\n",
    "\n",
    "# Call the evaluate_model_pipeline function\n",
    "evaluate_model_pipeline(rf, param_grid, X_train, X_test, y_train, y_test)"
   ]
  },
  {
   "cell_type": "code",
   "execution_count": 323,
   "id": "d64cc8d6",
   "metadata": {},
   "outputs": [],
   "source": [
    "from sklearn.metrics import roc_curve, auc"
   ]
  },
  {
   "cell_type": "code",
   "execution_count": 324,
   "id": "fd758e6a",
   "metadata": {},
   "outputs": [],
   "source": [
    "best_params = tune_hyperparameters(rf, param_grid, X_train, y_train)\n",
    "trained_model = train_model(rf, best_params, X_train, y_train)"
   ]
  },
  {
   "cell_type": "code",
   "execution_count": 325,
   "id": "8d3d469f",
   "metadata": {},
   "outputs": [],
   "source": [
    "y_pred = trained_model.predict(X_test)\n",
    "confusion_mat = confusion_matrix(y_test, y_pred)"
   ]
  },
  {
   "cell_type": "code",
   "execution_count": 326,
   "id": "0b18fa64",
   "metadata": {},
   "outputs": [
    {
     "data": {
      "text/plain": [
       "0.736986301369863"
      ]
     },
     "execution_count": 326,
     "metadata": {},
     "output_type": "execute_result"
    }
   ],
   "source": [
    "accuracy_score(y_test, y_pred)"
   ]
  },
  {
   "cell_type": "code",
   "execution_count": 327,
   "id": "992d723a",
   "metadata": {},
   "outputs": [],
   "source": [
    "# Calculate ROC curve and AUC\n",
    "y_prob = trained_model.predict_proba(X_test)\n",
    "fpr, tpr, _ = roc_curve(y_test, y_prob[:, 1])\n",
    "roc_auc = auc(fpr, tpr)"
   ]
  },
  {
   "cell_type": "code",
   "execution_count": 328,
   "id": "fc4a3092",
   "metadata": {},
   "outputs": [
    {
     "data": {
      "image/png": "[encoded data removed]",
      "text/plain": [
       "<Figure size 800x600 with 1 Axes>"
      ]
     },
     "metadata": {},
     "output_type": "display_data"
    }
   ],
   "source": [
    "# Plot ROC curve\n",
    "plt.figure(figsize=(8, 6))\n",
    "plt.plot(fpr, tpr, color='blue', lw=2, label='ROC curve (AUC = %0.2f)' % roc_auc)\n",
    "plt.plot([0, 1], [0, 1], color='gray', linestyle='--')\n",
    "plt.xlim([0.0, 1.0])\n",
    "plt.ylim([0.0, 1.05])\n",
    "plt.xlabel('False Positive Rate')\n",
    "plt.ylabel('True Positive Rate')\n",
    "plt.title('Receiver Operating Characteristic (ROC) Curve')\n",
    "plt.legend(loc=\"lower right\")\n",
    "plt.grid(True)\n",
    "plt.show()"
   ]
  },
  {
   "cell_type": "code",
   "execution_count": 329,
   "id": "bccdfc3e",
   "metadata": {},
   "outputs": [],
   "source": [
    "def evaluate_models(models, param_grids, X_train, X_test, y_train, y_test):\n",
    "    \"\"\"\n",
    "    Evaluate multiple models using the evaluate_model_pipeline function and save the results in a dictionary.\n",
    "    \n",
    "    Args:\n",
    "    - models: A dictionary of models where keys are model names and values are model objects.\n",
    "    - param_grids: A dictionary of parameter grids corresponding to each model.\n",
    "    - X_train: The training features.\n",
    "    - X_test: The test features.\n",
    "    - y_train: The training labels.\n",
    "    - y_test: The test labels.\n",
    "    \n",
    "    Returns:\n",
    "    - results: A dictionary containing evaluation results for each model.\n",
    "    \"\"\"\n",
    "    results = {}\n",
    "    for name, model in models.items():\n",
    "        print(f\"Evaluating {name}...\")\n",
    "        param_grid = param_grids[name]\n",
    "        result = {}\n",
    "        result['name'] = name\n",
    "        result['params'] = tune_hyperparameters(model, param_grid, X_train, y_train)\n",
    "        trained_model = train_model(model, result['params'], X_train, y_train)\n",
    "        result['model'] = trained_model\n",
    "        result['accuracy'], result['precision'], result['recall'], result['f1'], result['confusion_matrix'], result['fpr'], result['tpr'] = evaluate_model(trained_model, X_test, y_test)\n",
    "        results[name] = result\n",
    "    return results"
   ]
  },
  {
   "cell_type": "markdown",
   "id": "50946f4b",
   "metadata": {},
   "source": [
    "## show result function"
   ]
  },
  {
   "cell_type": "code",
   "execution_count": 330,
   "id": "e16ccb78",
   "metadata": {},
   "outputs": [],
   "source": [
    "def plot_metrics_comparison(results):\n",
    "    \"\"\"\n",
    "    Create a bar plot comparing evaluation metrics (Accuracy, Precision, Recall, F1-Score) for multiple models.\n",
    "    \n",
    "    Args:\n",
    "    - results: A dictionary containing evaluation results for each model.\n",
    "    \"\"\"\n",
    "    metrics = ['Accuracy', 'Precision', 'Recall', 'F1']\n",
    "    model_names = list(results.keys())\n",
    "    num_models = len(model_names)\n",
    "\n",
    "    fig, axes = plt.subplots(4, 1, figsize=(10, 12), sharex=True)\n",
    "    fig.suptitle('Comparison of Evaluation Metrics', fontsize=16)\n",
    "\n",
    "    for i, metric in enumerate(metrics):\n",
    "        for j, model_name in enumerate(model_names):\n",
    "            metric_value = results[model_name][metric.lower()]\n",
    "            axes[i].bar(j, metric_value, color=['blue', 'green', 'orange', 'red'][j])\n",
    "        axes[i].set_ylabel(metric)\n",
    "        axes[i].set_xticks(np.arange(num_models))\n",
    "        axes[i].set_xticklabels(model_names, rotation=45)\n",
    "        axes[i].set_ylim(0, 1)\n",
    "\n",
    "    plt.tight_layout()\n",
    "    plt.show()\n",
    "\n",
    "def plot_confusion_matrices(results, X_test, y_test):\n",
    "    \"\"\"\n",
    "    Plot and compare confusion matrices for multiple models.\n",
    "    \n",
    "    Args:\n",
    "    - results: A dictionary containing evaluation results for each model.\n",
    "    - X_test: The test features.\n",
    "    - y_test: The test labels.\n",
    "    \"\"\"\n",
    "    model_names = list(results.keys())\n",
    "\n",
    "    for model_name in model_names:\n",
    "        confusion_matrix = results[model_name]['confusion_matrix']\n",
    "        disp = ConfusionMatrixDisplay(confusion_matrix=confusion_matrix, display_labels=np.unique(y_test))\n",
    "        disp.plot(cmap='Blues')\n",
    "        plt.title(f'Confusion Matrix - {model_name}')\n",
    "        plt.show()\n",
    "\n",
    "    \n",
    "def plot_roc_auc(results, X_test, y_test):\n",
    "    \"\"\"\n",
    "    plot\n",
    "    \n",
    "    Args:\n",
    "    - results: A dictionary containing evaluation results for each model.\n",
    "    - X_test: The test features.\n",
    "    - y_test: The test labels.\n",
    "    \"\"\"\n",
    "    model_names = list(results.keys())\n",
    "    \n",
    "    for model_name in model_names:\n",
    "        fpr = results[model_name]['fpr']\n",
    "        tpr = results[model_name]['tpr']\n",
    "        \n",
    "        roc_auc = auc(fpr, tpr)\n",
    "        \n",
    "        plt.plot(fpr, tpr, lw=2, label=f'{model_name}: (AUC = %0.2f)' % roc_auc)\n",
    "\n",
    "    plt.plot([0, 1], [0, 1], color='gray', linestyle='--')\n",
    "    plt.xlim([0.0, 1.0])\n",
    "    plt.ylim([0.0, 1.05])\n",
    "    plt.xlabel('False Positive Rate')\n",
    "    plt.ylabel('True Positive Rate')\n",
    "    plt.title('Receiver Operating Characteristic (ROC) Curve')\n",
    "    plt.legend(loc=\"lower right\")\n",
    "    plt.grid(True)\n",
    "    plt.show()"
   ]
  },
  {
   "cell_type": "markdown",
   "id": "239db7f8",
   "metadata": {},
   "source": [
    "## sample"
   ]
  },
  {
   "cell_type": "code",
   "execution_count": 331,
   "id": "29382927",
   "metadata": {},
   "outputs": [
    {
     "name": "stdout",
     "output_type": "stream",
     "text": [
      "Evaluating RandomForest...\n",
      "Evaluating DT...\n",
      "Evaluating LogisticRegression...\n"
     ]
    },
    {
     "name": "stderr",
     "output_type": "stream",
     "text": [
      "E:\\005-freelancing\\daneshkar\\Class\\Data Science and Machine Learning\\001.ِData Science Project 2\\venv_movie\\Lib\\site-packages\\sklearn\\model_selection\\_validation.py:547: FitFailedWarning: \n",
      "15 fits failed out of a total of 30.\n",
      "The score on these train-test partitions for these parameters will be set to nan.\n",
      "If these failures are not expected, you can try to debug them by setting error_score='raise'.\n",
      "\n",
      "Below are more details about the failures:\n",
      "--------------------------------------------------------------------------------\n",
      "6 fits failed with the following error:\n",
      "Traceback (most recent call last):\n",
      "  File \"E:\\005-freelancing\\daneshkar\\Class\\Data Science and Machine Learning\\001.ِData Science Project 2\\venv_movie\\Lib\\site-packages\\sklearn\\model_selection\\_validation.py\", line 895, in _fit_and_score\n",
      "    estimator.fit(X_train, y_train, **fit_params)\n",
      "  File \"E:\\005-freelancing\\daneshkar\\Class\\Data Science and Machine Learning\\001.ِData Science Project 2\\venv_movie\\Lib\\site-packages\\sklearn\\base.py\", line 1467, in wrapper\n",
      "    estimator._validate_params()\n",
      "  File \"E:\\005-freelancing\\daneshkar\\Class\\Data Science and Machine Learning\\001.ِData Science Project 2\\venv_movie\\Lib\\site-packages\\sklearn\\base.py\", line 666, in _validate_params\n",
      "    validate_parameter_constraints(\n",
      "  File \"E:\\005-freelancing\\daneshkar\\Class\\Data Science and Machine Learning\\001.ِData Science Project 2\\venv_movie\\Lib\\site-packages\\sklearn\\utils\\_param_validation.py\", line 95, in validate_parameter_constraints\n",
      "    raise InvalidParameterError(\n",
      "sklearn.utils._param_validation.InvalidParameterError: The 'penalty' parameter of LogisticRegression must be a str among {'l2', 'elasticnet', 'l1'} or None. Got 'None' instead.\n",
      "\n",
      "--------------------------------------------------------------------------------\n",
      "6 fits failed with the following error:\n",
      "Traceback (most recent call last):\n",
      "  File \"E:\\005-freelancing\\daneshkar\\Class\\Data Science and Machine Learning\\001.ِData Science Project 2\\venv_movie\\Lib\\site-packages\\sklearn\\model_selection\\_validation.py\", line 895, in _fit_and_score\n",
      "    estimator.fit(X_train, y_train, **fit_params)\n",
      "  File \"E:\\005-freelancing\\daneshkar\\Class\\Data Science and Machine Learning\\001.ِData Science Project 2\\venv_movie\\Lib\\site-packages\\sklearn\\base.py\", line 1467, in wrapper\n",
      "    estimator._validate_params()\n",
      "  File \"E:\\005-freelancing\\daneshkar\\Class\\Data Science and Machine Learning\\001.ِData Science Project 2\\venv_movie\\Lib\\site-packages\\sklearn\\base.py\", line 666, in _validate_params\n",
      "    validate_parameter_constraints(\n",
      "  File \"E:\\005-freelancing\\daneshkar\\Class\\Data Science and Machine Learning\\001.ِData Science Project 2\\venv_movie\\Lib\\site-packages\\sklearn\\utils\\_param_validation.py\", line 95, in validate_parameter_constraints\n",
      "    raise InvalidParameterError(\n",
      "sklearn.utils._param_validation.InvalidParameterError: The 'penalty' parameter of LogisticRegression must be a str among {'l1', 'elasticnet', 'l2'} or None. Got 'None' instead.\n",
      "\n",
      "--------------------------------------------------------------------------------\n",
      "3 fits failed with the following error:\n",
      "Traceback (most recent call last):\n",
      "  File \"E:\\005-freelancing\\daneshkar\\Class\\Data Science and Machine Learning\\001.ِData Science Project 2\\venv_movie\\Lib\\site-packages\\sklearn\\model_selection\\_validation.py\", line 895, in _fit_and_score\n",
      "    estimator.fit(X_train, y_train, **fit_params)\n",
      "  File \"E:\\005-freelancing\\daneshkar\\Class\\Data Science and Machine Learning\\001.ِData Science Project 2\\venv_movie\\Lib\\site-packages\\sklearn\\base.py\", line 1467, in wrapper\n",
      "    estimator._validate_params()\n",
      "  File \"E:\\005-freelancing\\daneshkar\\Class\\Data Science and Machine Learning\\001.ِData Science Project 2\\venv_movie\\Lib\\site-packages\\sklearn\\base.py\", line 666, in _validate_params\n",
      "    validate_parameter_constraints(\n",
      "  File \"E:\\005-freelancing\\daneshkar\\Class\\Data Science and Machine Learning\\001.ِData Science Project 2\\venv_movie\\Lib\\site-packages\\sklearn\\utils\\_param_validation.py\", line 95, in validate_parameter_constraints\n",
      "    raise InvalidParameterError(\n",
      "sklearn.utils._param_validation.InvalidParameterError: The 'penalty' parameter of LogisticRegression must be a str among {'l2', 'l1', 'elasticnet'} or None. Got 'None' instead.\n",
      "\n",
      "  warnings.warn(some_fits_failed_message, FitFailedWarning)\n",
      "E:\\005-freelancing\\daneshkar\\Class\\Data Science and Machine Learning\\001.ِData Science Project 2\\venv_movie\\Lib\\site-packages\\sklearn\\model_selection\\_search.py:1051: UserWarning: One or more of the test scores are non-finite: [  nan 0.612   nan 0.613   nan 0.608]\n",
      "  warnings.warn(\n"
     ]
    },
    {
     "name": "stdout",
     "output_type": "stream",
     "text": [
      "Evaluating XGBoost...\n"
     ]
    },
    {
     "ename": "ValueError",
     "evalue": "\nAll the 90 fits failed.\nIt is very likely that your model is misconfigured.\nYou can try to debug the error by setting error_score='raise'.\n\nBelow are more details about the failures:\n--------------------------------------------------------------------------------\n90 fits failed with the following error:\nTraceback (most recent call last):\n  File \"E:\\005-freelancing\\daneshkar\\Class\\Data Science and Machine Learning\\001.ِData Science Project 2\\venv_movie\\Lib\\site-packages\\sklearn\\model_selection\\_validation.py\", line 895, in _fit_and_score\n    estimator.fit(X_train, y_train, **fit_params)\n  File \"E:\\005-freelancing\\daneshkar\\Class\\Data Science and Machine Learning\\001.ِData Science Project 2\\venv_movie\\Lib\\site-packages\\xgboost\\core.py\", line 730, in inner_f\n    return func(**kwargs)\n           ^^^^^^^^^^^^^^\n  File \"E:\\005-freelancing\\daneshkar\\Class\\Data Science and Machine Learning\\001.ِData Science Project 2\\venv_movie\\Lib\\site-packages\\xgboost\\sklearn.py\", line 1500, in fit\n    train_dmatrix, evals = _wrap_evaluation_matrices(\n                           ^^^^^^^^^^^^^^^^^^^^^^^^^^\n  File \"E:\\005-freelancing\\daneshkar\\Class\\Data Science and Machine Learning\\001.ِData Science Project 2\\venv_movie\\Lib\\site-packages\\xgboost\\sklearn.py\", line 521, in _wrap_evaluation_matrices\n    train_dmatrix = create_dmatrix(\n                    ^^^^^^^^^^^^^^^\n  File \"E:\\005-freelancing\\daneshkar\\Class\\Data Science and Machine Learning\\001.ِData Science Project 2\\venv_movie\\Lib\\site-packages\\xgboost\\sklearn.py\", line 958, in _create_dmatrix\n    return QuantileDMatrix(\n           ^^^^^^^^^^^^^^^^\n  File \"E:\\005-freelancing\\daneshkar\\Class\\Data Science and Machine Learning\\001.ِData Science Project 2\\venv_movie\\Lib\\site-packages\\xgboost\\core.py\", line 730, in inner_f\n    return func(**kwargs)\n           ^^^^^^^^^^^^^^\n  File \"E:\\005-freelancing\\daneshkar\\Class\\Data Science and Machine Learning\\001.ِData Science Project 2\\venv_movie\\Lib\\site-packages\\xgboost\\core.py\", line 1529, in __init__\n    self._init(\n  File \"E:\\005-freelancing\\daneshkar\\Class\\Data Science and Machine Learning\\001.ِData Science Project 2\\venv_movie\\Lib\\site-packages\\xgboost\\core.py\", line 1588, in _init\n    it.reraise()\n  File \"E:\\005-freelancing\\daneshkar\\Class\\Data Science and Machine Learning\\001.ِData Science Project 2\\venv_movie\\Lib\\site-packages\\xgboost\\core.py\", line 576, in reraise\n    raise exc  # pylint: disable=raising-bad-type\n    ^^^^^^^^^\n  File \"E:\\005-freelancing\\daneshkar\\Class\\Data Science and Machine Learning\\001.ِData Science Project 2\\venv_movie\\Lib\\site-packages\\xgboost\\core.py\", line 557, in _handle_exception\n    return fn()\n           ^^^^\n  File \"E:\\005-freelancing\\daneshkar\\Class\\Data Science and Machine Learning\\001.ِData Science Project 2\\venv_movie\\Lib\\site-packages\\xgboost\\core.py\", line 641, in <lambda>\n    return self._handle_exception(lambda: self.next(input_data), 0)\n                                          ^^^^^^^^^^^^^^^^^^^^^\n  File \"E:\\005-freelancing\\daneshkar\\Class\\Data Science and Machine Learning\\001.ِData Science Project 2\\venv_movie\\Lib\\site-packages\\xgboost\\data.py\", line 1280, in next\n    input_data(**self.kwargs)\n  File \"E:\\005-freelancing\\daneshkar\\Class\\Data Science and Machine Learning\\001.ِData Science Project 2\\venv_movie\\Lib\\site-packages\\xgboost\\core.py\", line 730, in inner_f\n    return func(**kwargs)\n           ^^^^^^^^^^^^^^\n  File \"E:\\005-freelancing\\daneshkar\\Class\\Data Science and Machine Learning\\001.ِData Science Project 2\\venv_movie\\Lib\\site-packages\\xgboost\\core.py\", line 624, in input_data\n    new, cat_codes, feature_names, feature_types = _proxy_transform(\n                                                   ^^^^^^^^^^^^^^^^^\n  File \"E:\\005-freelancing\\daneshkar\\Class\\Data Science and Machine Learning\\001.ِData Science Project 2\\venv_movie\\Lib\\site-packages\\xgboost\\data.py\", line 1315, in _proxy_transform\n    arr, feature_names, feature_types = _transform_pandas_df(\n                                        ^^^^^^^^^^^^^^^^^^^^^\n  File \"E:\\005-freelancing\\daneshkar\\Class\\Data Science and Machine Learning\\001.ِData Science Project 2\\venv_movie\\Lib\\site-packages\\xgboost\\data.py\", line 490, in _transform_pandas_df\n    _invalid_dataframe_dtype(data)\n  File \"E:\\005-freelancing\\daneshkar\\Class\\Data Science and Machine Learning\\001.ِData Science Project 2\\venv_movie\\Lib\\site-packages\\xgboost\\data.py\", line 308, in _invalid_dataframe_dtype\n    raise ValueError(msg)\nValueError: DataFrame.dtypes for data must be int, float, bool or category. When categorical type is supplied, The experimental DMatrix parameter`enable_categorical` must be set to `True`.  Invalid columns:Action: object, Adventure: object, Animation: object, Comedy: object, Crime: object, Drama: object\n",
     "output_type": "error",
     "traceback": [
      "\u001b[1;31m---------------------------------------------------------------------------\u001b[0m",
      "\u001b[1;31mValueError\u001b[0m                                Traceback (most recent call last)",
      "Cell \u001b[1;32mIn[331], line 37\u001b[0m\n\u001b[0;32m     15\u001b[0m param_grids \u001b[38;5;241m=\u001b[39m {\n\u001b[0;32m     16\u001b[0m     \u001b[38;5;124m'\u001b[39m\u001b[38;5;124mRandomForest\u001b[39m\u001b[38;5;124m'\u001b[39m: {\n\u001b[0;32m     17\u001b[0m         \u001b[38;5;124m'\u001b[39m\u001b[38;5;124mn_estimators\u001b[39m\u001b[38;5;124m'\u001b[39m: [\u001b[38;5;241m100\u001b[39m, \u001b[38;5;241m200\u001b[39m],\n\u001b[1;32m   (...)\u001b[0m\n\u001b[0;32m     33\u001b[0m     }\n\u001b[0;32m     34\u001b[0m }\n\u001b[0;32m     36\u001b[0m \u001b[38;5;66;03m# Example usage:\u001b[39;00m\n\u001b[1;32m---> 37\u001b[0m results \u001b[38;5;241m=\u001b[39m \u001b[43mevaluate_models\u001b[49m\u001b[43m(\u001b[49m\u001b[43mmodels\u001b[49m\u001b[43m,\u001b[49m\u001b[43m \u001b[49m\u001b[43mparam_grids\u001b[49m\u001b[43m,\u001b[49m\u001b[43m \u001b[49m\u001b[43mX_train\u001b[49m\u001b[43m,\u001b[49m\u001b[43m \u001b[49m\u001b[43mX_test\u001b[49m\u001b[43m,\u001b[49m\u001b[43m \u001b[49m\u001b[43my_train\u001b[49m\u001b[43m,\u001b[49m\u001b[43m \u001b[49m\u001b[43my_test\u001b[49m\u001b[43m)\u001b[49m\n\u001b[0;32m     39\u001b[0m \u001b[38;5;66;03m# Print results\u001b[39;00m\n\u001b[0;32m     40\u001b[0m \u001b[38;5;28;01mfor\u001b[39;00m name, result \u001b[38;5;129;01min\u001b[39;00m results\u001b[38;5;241m.\u001b[39mitems():\n",
      "Cell \u001b[1;32mIn[329], line 22\u001b[0m, in \u001b[0;36mevaluate_models\u001b[1;34m(models, param_grids, X_train, X_test, y_train, y_test)\u001b[0m\n\u001b[0;32m     20\u001b[0m result \u001b[38;5;241m=\u001b[39m {}\n\u001b[0;32m     21\u001b[0m result[\u001b[38;5;124m'\u001b[39m\u001b[38;5;124mname\u001b[39m\u001b[38;5;124m'\u001b[39m] \u001b[38;5;241m=\u001b[39m name\n\u001b[1;32m---> 22\u001b[0m result[\u001b[38;5;124m'\u001b[39m\u001b[38;5;124mparams\u001b[39m\u001b[38;5;124m'\u001b[39m] \u001b[38;5;241m=\u001b[39m \u001b[43mtune_hyperparameters\u001b[49m\u001b[43m(\u001b[49m\u001b[43mmodel\u001b[49m\u001b[43m,\u001b[49m\u001b[43m \u001b[49m\u001b[43mparam_grid\u001b[49m\u001b[43m,\u001b[49m\u001b[43m \u001b[49m\u001b[43mX_train\u001b[49m\u001b[43m,\u001b[49m\u001b[43m \u001b[49m\u001b[43my_train\u001b[49m\u001b[43m)\u001b[49m\n\u001b[0;32m     23\u001b[0m trained_model \u001b[38;5;241m=\u001b[39m train_model(model, result[\u001b[38;5;124m'\u001b[39m\u001b[38;5;124mparams\u001b[39m\u001b[38;5;124m'\u001b[39m], X_train, y_train)\n\u001b[0;32m     24\u001b[0m result[\u001b[38;5;124m'\u001b[39m\u001b[38;5;124mmodel\u001b[39m\u001b[38;5;124m'\u001b[39m] \u001b[38;5;241m=\u001b[39m trained_model\n",
      "Cell \u001b[1;32mIn[321], line 20\u001b[0m, in \u001b[0;36mtune_hyperparameters\u001b[1;34m(model, param_grid, X_train, y_train, cv)\u001b[0m\n\u001b[0;32m      7\u001b[0m \u001b[38;5;250m\u001b[39m\u001b[38;5;124;03m\"\"\"\u001b[39;00m\n\u001b[0;32m      8\u001b[0m \u001b[38;5;124;03mPerform hyperparameter tuning using grid search and return the best parameters.\u001b[39;00m\n\u001b[0;32m      9\u001b[0m \u001b[38;5;124;03m\u001b[39;00m\n\u001b[1;32m   (...)\u001b[0m\n\u001b[0;32m     17\u001b[0m \u001b[38;5;124;03m- best_params: The best parameters found by grid search.\u001b[39;00m\n\u001b[0;32m     18\u001b[0m \u001b[38;5;124;03m\"\"\"\u001b[39;00m\n\u001b[0;32m     19\u001b[0m grid_search \u001b[38;5;241m=\u001b[39m GridSearchCV(estimator\u001b[38;5;241m=\u001b[39mmodel, param_grid\u001b[38;5;241m=\u001b[39mparam_grid, cv\u001b[38;5;241m=\u001b[39mcv, n_jobs\u001b[38;5;241m=\u001b[39m\u001b[38;5;241m-\u001b[39m\u001b[38;5;241m1\u001b[39m)\n\u001b[1;32m---> 20\u001b[0m \u001b[43mgrid_search\u001b[49m\u001b[38;5;241;43m.\u001b[39;49m\u001b[43mfit\u001b[49m\u001b[43m(\u001b[49m\u001b[43mX_train\u001b[49m\u001b[43m,\u001b[49m\u001b[43m \u001b[49m\u001b[43my_train\u001b[49m\u001b[43m)\u001b[49m\n\u001b[0;32m     21\u001b[0m best_params \u001b[38;5;241m=\u001b[39m grid_search\u001b[38;5;241m.\u001b[39mbest_params_\n\u001b[0;32m     22\u001b[0m \u001b[38;5;28;01mreturn\u001b[39;00m best_params\n",
      "File \u001b[1;32mE:\\005-freelancing\\daneshkar\\Class\\Data Science and Machine Learning\\001.ِData Science Project 2\\venv_movie\\Lib\\site-packages\\sklearn\\base.py:1474\u001b[0m, in \u001b[0;36m_fit_context.<locals>.decorator.<locals>.wrapper\u001b[1;34m(estimator, *args, **kwargs)\u001b[0m\n\u001b[0;32m   1467\u001b[0m     estimator\u001b[38;5;241m.\u001b[39m_validate_params()\n\u001b[0;32m   1469\u001b[0m \u001b[38;5;28;01mwith\u001b[39;00m config_context(\n\u001b[0;32m   1470\u001b[0m     skip_parameter_validation\u001b[38;5;241m=\u001b[39m(\n\u001b[0;32m   1471\u001b[0m         prefer_skip_nested_validation \u001b[38;5;129;01mor\u001b[39;00m global_skip_validation\n\u001b[0;32m   1472\u001b[0m     )\n\u001b[0;32m   1473\u001b[0m ):\n\u001b[1;32m-> 1474\u001b[0m     \u001b[38;5;28;01mreturn\u001b[39;00m \u001b[43mfit_method\u001b[49m\u001b[43m(\u001b[49m\u001b[43mestimator\u001b[49m\u001b[43m,\u001b[49m\u001b[43m \u001b[49m\u001b[38;5;241;43m*\u001b[39;49m\u001b[43margs\u001b[49m\u001b[43m,\u001b[49m\u001b[43m \u001b[49m\u001b[38;5;241;43m*\u001b[39;49m\u001b[38;5;241;43m*\u001b[39;49m\u001b[43mkwargs\u001b[49m\u001b[43m)\u001b[49m\n",
      "File \u001b[1;32mE:\\005-freelancing\\daneshkar\\Class\\Data Science and Machine Learning\\001.ِData Science Project 2\\venv_movie\\Lib\\site-packages\\sklearn\\model_selection\\_search.py:970\u001b[0m, in \u001b[0;36mBaseSearchCV.fit\u001b[1;34m(self, X, y, **params)\u001b[0m\n\u001b[0;32m    964\u001b[0m     results \u001b[38;5;241m=\u001b[39m \u001b[38;5;28mself\u001b[39m\u001b[38;5;241m.\u001b[39m_format_results(\n\u001b[0;32m    965\u001b[0m         all_candidate_params, n_splits, all_out, all_more_results\n\u001b[0;32m    966\u001b[0m     )\n\u001b[0;32m    968\u001b[0m     \u001b[38;5;28;01mreturn\u001b[39;00m results\n\u001b[1;32m--> 970\u001b[0m \u001b[38;5;28;43mself\u001b[39;49m\u001b[38;5;241;43m.\u001b[39;49m\u001b[43m_run_search\u001b[49m\u001b[43m(\u001b[49m\u001b[43mevaluate_candidates\u001b[49m\u001b[43m)\u001b[49m\n\u001b[0;32m    972\u001b[0m \u001b[38;5;66;03m# multimetric is determined here because in the case of a callable\u001b[39;00m\n\u001b[0;32m    973\u001b[0m \u001b[38;5;66;03m# self.scoring the return type is only known after calling\u001b[39;00m\n\u001b[0;32m    974\u001b[0m first_test_score \u001b[38;5;241m=\u001b[39m all_out[\u001b[38;5;241m0\u001b[39m][\u001b[38;5;124m\"\u001b[39m\u001b[38;5;124mtest_scores\u001b[39m\u001b[38;5;124m\"\u001b[39m]\n",
      "File \u001b[1;32mE:\\005-freelancing\\daneshkar\\Class\\Data Science and Machine Learning\\001.ِData Science Project 2\\venv_movie\\Lib\\site-packages\\sklearn\\model_selection\\_search.py:1527\u001b[0m, in \u001b[0;36mGridSearchCV._run_search\u001b[1;34m(self, evaluate_candidates)\u001b[0m\n\u001b[0;32m   1525\u001b[0m \u001b[38;5;28;01mdef\u001b[39;00m \u001b[38;5;21m_run_search\u001b[39m(\u001b[38;5;28mself\u001b[39m, evaluate_candidates):\n\u001b[0;32m   1526\u001b[0m \u001b[38;5;250m    \u001b[39m\u001b[38;5;124;03m\"\"\"Search all candidates in param_grid\"\"\"\u001b[39;00m\n\u001b[1;32m-> 1527\u001b[0m     \u001b[43mevaluate_candidates\u001b[49m\u001b[43m(\u001b[49m\u001b[43mParameterGrid\u001b[49m\u001b[43m(\u001b[49m\u001b[38;5;28;43mself\u001b[39;49m\u001b[38;5;241;43m.\u001b[39;49m\u001b[43mparam_grid\u001b[49m\u001b[43m)\u001b[49m\u001b[43m)\u001b[49m\n",
      "File \u001b[1;32mE:\\005-freelancing\\daneshkar\\Class\\Data Science and Machine Learning\\001.ِData Science Project 2\\venv_movie\\Lib\\site-packages\\sklearn\\model_selection\\_search.py:947\u001b[0m, in \u001b[0;36mBaseSearchCV.fit.<locals>.evaluate_candidates\u001b[1;34m(candidate_params, cv, more_results)\u001b[0m\n\u001b[0;32m    940\u001b[0m \u001b[38;5;28;01melif\u001b[39;00m \u001b[38;5;28mlen\u001b[39m(out) \u001b[38;5;241m!=\u001b[39m n_candidates \u001b[38;5;241m*\u001b[39m n_splits:\n\u001b[0;32m    941\u001b[0m     \u001b[38;5;28;01mraise\u001b[39;00m \u001b[38;5;167;01mValueError\u001b[39;00m(\n\u001b[0;32m    942\u001b[0m         \u001b[38;5;124m\"\u001b[39m\u001b[38;5;124mcv.split and cv.get_n_splits returned \u001b[39m\u001b[38;5;124m\"\u001b[39m\n\u001b[0;32m    943\u001b[0m         \u001b[38;5;124m\"\u001b[39m\u001b[38;5;124minconsistent results. Expected \u001b[39m\u001b[38;5;132;01m{}\u001b[39;00m\u001b[38;5;124m \u001b[39m\u001b[38;5;124m\"\u001b[39m\n\u001b[0;32m    944\u001b[0m         \u001b[38;5;124m\"\u001b[39m\u001b[38;5;124msplits, got \u001b[39m\u001b[38;5;132;01m{}\u001b[39;00m\u001b[38;5;124m\"\u001b[39m\u001b[38;5;241m.\u001b[39mformat(n_splits, \u001b[38;5;28mlen\u001b[39m(out) \u001b[38;5;241m/\u001b[39m\u001b[38;5;241m/\u001b[39m n_candidates)\n\u001b[0;32m    945\u001b[0m     )\n\u001b[1;32m--> 947\u001b[0m \u001b[43m_warn_or_raise_about_fit_failures\u001b[49m\u001b[43m(\u001b[49m\u001b[43mout\u001b[49m\u001b[43m,\u001b[49m\u001b[43m \u001b[49m\u001b[38;5;28;43mself\u001b[39;49m\u001b[38;5;241;43m.\u001b[39;49m\u001b[43merror_score\u001b[49m\u001b[43m)\u001b[49m\n\u001b[0;32m    949\u001b[0m \u001b[38;5;66;03m# For callable self.scoring, the return type is only know after\u001b[39;00m\n\u001b[0;32m    950\u001b[0m \u001b[38;5;66;03m# calling. If the return type is a dictionary, the error scores\u001b[39;00m\n\u001b[0;32m    951\u001b[0m \u001b[38;5;66;03m# can now be inserted with the correct key. The type checking\u001b[39;00m\n\u001b[0;32m    952\u001b[0m \u001b[38;5;66;03m# of out will be done in `_insert_error_scores`.\u001b[39;00m\n\u001b[0;32m    953\u001b[0m \u001b[38;5;28;01mif\u001b[39;00m \u001b[38;5;28mcallable\u001b[39m(\u001b[38;5;28mself\u001b[39m\u001b[38;5;241m.\u001b[39mscoring):\n",
      "File \u001b[1;32mE:\\005-freelancing\\daneshkar\\Class\\Data Science and Machine Learning\\001.ِData Science Project 2\\venv_movie\\Lib\\site-packages\\sklearn\\model_selection\\_validation.py:536\u001b[0m, in \u001b[0;36m_warn_or_raise_about_fit_failures\u001b[1;34m(results, error_score)\u001b[0m\n\u001b[0;32m    529\u001b[0m \u001b[38;5;28;01mif\u001b[39;00m num_failed_fits \u001b[38;5;241m==\u001b[39m num_fits:\n\u001b[0;32m    530\u001b[0m     all_fits_failed_message \u001b[38;5;241m=\u001b[39m (\n\u001b[0;32m    531\u001b[0m         \u001b[38;5;124mf\u001b[39m\u001b[38;5;124m\"\u001b[39m\u001b[38;5;130;01m\\n\u001b[39;00m\u001b[38;5;124mAll the \u001b[39m\u001b[38;5;132;01m{\u001b[39;00mnum_fits\u001b[38;5;132;01m}\u001b[39;00m\u001b[38;5;124m fits failed.\u001b[39m\u001b[38;5;130;01m\\n\u001b[39;00m\u001b[38;5;124m\"\u001b[39m\n\u001b[0;32m    532\u001b[0m         \u001b[38;5;124m\"\u001b[39m\u001b[38;5;124mIt is very likely that your model is misconfigured.\u001b[39m\u001b[38;5;130;01m\\n\u001b[39;00m\u001b[38;5;124m\"\u001b[39m\n\u001b[0;32m    533\u001b[0m         \u001b[38;5;124m\"\u001b[39m\u001b[38;5;124mYou can try to debug the error by setting error_score=\u001b[39m\u001b[38;5;124m'\u001b[39m\u001b[38;5;124mraise\u001b[39m\u001b[38;5;124m'\u001b[39m\u001b[38;5;124m.\u001b[39m\u001b[38;5;130;01m\\n\u001b[39;00m\u001b[38;5;130;01m\\n\u001b[39;00m\u001b[38;5;124m\"\u001b[39m\n\u001b[0;32m    534\u001b[0m         \u001b[38;5;124mf\u001b[39m\u001b[38;5;124m\"\u001b[39m\u001b[38;5;124mBelow are more details about the failures:\u001b[39m\u001b[38;5;130;01m\\n\u001b[39;00m\u001b[38;5;132;01m{\u001b[39;00mfit_errors_summary\u001b[38;5;132;01m}\u001b[39;00m\u001b[38;5;124m\"\u001b[39m\n\u001b[0;32m    535\u001b[0m     )\n\u001b[1;32m--> 536\u001b[0m     \u001b[38;5;28;01mraise\u001b[39;00m \u001b[38;5;167;01mValueError\u001b[39;00m(all_fits_failed_message)\n\u001b[0;32m    538\u001b[0m \u001b[38;5;28;01melse\u001b[39;00m:\n\u001b[0;32m    539\u001b[0m     some_fits_failed_message \u001b[38;5;241m=\u001b[39m (\n\u001b[0;32m    540\u001b[0m         \u001b[38;5;124mf\u001b[39m\u001b[38;5;124m\"\u001b[39m\u001b[38;5;130;01m\\n\u001b[39;00m\u001b[38;5;132;01m{\u001b[39;00mnum_failed_fits\u001b[38;5;132;01m}\u001b[39;00m\u001b[38;5;124m fits failed out of a total of \u001b[39m\u001b[38;5;132;01m{\u001b[39;00mnum_fits\u001b[38;5;132;01m}\u001b[39;00m\u001b[38;5;124m.\u001b[39m\u001b[38;5;130;01m\\n\u001b[39;00m\u001b[38;5;124m\"\u001b[39m\n\u001b[0;32m    541\u001b[0m         \u001b[38;5;124m\"\u001b[39m\u001b[38;5;124mThe score on these train-test partitions for these parameters\u001b[39m\u001b[38;5;124m\"\u001b[39m\n\u001b[1;32m   (...)\u001b[0m\n\u001b[0;32m    545\u001b[0m         \u001b[38;5;124mf\u001b[39m\u001b[38;5;124m\"\u001b[39m\u001b[38;5;124mBelow are more details about the failures:\u001b[39m\u001b[38;5;130;01m\\n\u001b[39;00m\u001b[38;5;132;01m{\u001b[39;00mfit_errors_summary\u001b[38;5;132;01m}\u001b[39;00m\u001b[38;5;124m\"\u001b[39m\n\u001b[0;32m    546\u001b[0m     )\n",
      "\u001b[1;31mValueError\u001b[0m: \nAll the 90 fits failed.\nIt is very likely that your model is misconfigured.\nYou can try to debug the error by setting error_score='raise'.\n\nBelow are more details about the failures:\n--------------------------------------------------------------------------------\n90 fits failed with the following error:\nTraceback (most recent call last):\n  File \"E:\\005-freelancing\\daneshkar\\Class\\Data Science and Machine Learning\\001.ِData Science Project 2\\venv_movie\\Lib\\site-packages\\sklearn\\model_selection\\_validation.py\", line 895, in _fit_and_score\n    estimator.fit(X_train, y_train, **fit_params)\n  File \"E:\\005-freelancing\\daneshkar\\Class\\Data Science and Machine Learning\\001.ِData Science Project 2\\venv_movie\\Lib\\site-packages\\xgboost\\core.py\", line 730, in inner_f\n    return func(**kwargs)\n           ^^^^^^^^^^^^^^\n  File \"E:\\005-freelancing\\daneshkar\\Class\\Data Science and Machine Learning\\001.ِData Science Project 2\\venv_movie\\Lib\\site-packages\\xgboost\\sklearn.py\", line 1500, in fit\n    train_dmatrix, evals = _wrap_evaluation_matrices(\n                           ^^^^^^^^^^^^^^^^^^^^^^^^^^\n  File \"E:\\005-freelancing\\daneshkar\\Class\\Data Science and Machine Learning\\001.ِData Science Project 2\\venv_movie\\Lib\\site-packages\\xgboost\\sklearn.py\", line 521, in _wrap_evaluation_matrices\n    train_dmatrix = create_dmatrix(\n                    ^^^^^^^^^^^^^^^\n  File \"E:\\005-freelancing\\daneshkar\\Class\\Data Science and Machine Learning\\001.ِData Science Project 2\\venv_movie\\Lib\\site-packages\\xgboost\\sklearn.py\", line 958, in _create_dmatrix\n    return QuantileDMatrix(\n           ^^^^^^^^^^^^^^^^\n  File \"E:\\005-freelancing\\daneshkar\\Class\\Data Science and Machine Learning\\001.ِData Science Project 2\\venv_movie\\Lib\\site-packages\\xgboost\\core.py\", line 730, in inner_f\n    return func(**kwargs)\n           ^^^^^^^^^^^^^^\n  File \"E:\\005-freelancing\\daneshkar\\Class\\Data Science and Machine Learning\\001.ِData Science Project 2\\venv_movie\\Lib\\site-packages\\xgboost\\core.py\", line 1529, in __init__\n    self._init(\n  File \"E:\\005-freelancing\\daneshkar\\Class\\Data Science and Machine Learning\\001.ِData Science Project 2\\venv_movie\\Lib\\site-packages\\xgboost\\core.py\", line 1588, in _init\n    it.reraise()\n  File \"E:\\005-freelancing\\daneshkar\\Class\\Data Science and Machine Learning\\001.ِData Science Project 2\\venv_movie\\Lib\\site-packages\\xgboost\\core.py\", line 576, in reraise\n    raise exc  # pylint: disable=raising-bad-type\n    ^^^^^^^^^\n  File \"E:\\005-freelancing\\daneshkar\\Class\\Data Science and Machine Learning\\001.ِData Science Project 2\\venv_movie\\Lib\\site-packages\\xgboost\\core.py\", line 557, in _handle_exception\n    return fn()\n           ^^^^\n  File \"E:\\005-freelancing\\daneshkar\\Class\\Data Science and Machine Learning\\001.ِData Science Project 2\\venv_movie\\Lib\\site-packages\\xgboost\\core.py\", line 641, in <lambda>\n    return self._handle_exception(lambda: self.next(input_data), 0)\n                                          ^^^^^^^^^^^^^^^^^^^^^\n  File \"E:\\005-freelancing\\daneshkar\\Class\\Data Science and Machine Learning\\001.ِData Science Project 2\\venv_movie\\Lib\\site-packages\\xgboost\\data.py\", line 1280, in next\n    input_data(**self.kwargs)\n  File \"E:\\005-freelancing\\daneshkar\\Class\\Data Science and Machine Learning\\001.ِData Science Project 2\\venv_movie\\Lib\\site-packages\\xgboost\\core.py\", line 730, in inner_f\n    return func(**kwargs)\n           ^^^^^^^^^^^^^^\n  File \"E:\\005-freelancing\\daneshkar\\Class\\Data Science and Machine Learning\\001.ِData Science Project 2\\venv_movie\\Lib\\site-packages\\xgboost\\core.py\", line 624, in input_data\n    new, cat_codes, feature_names, feature_types = _proxy_transform(\n                                                   ^^^^^^^^^^^^^^^^^\n  File \"E:\\005-freelancing\\daneshkar\\Class\\Data Science and Machine Learning\\001.ِData Science Project 2\\venv_movie\\Lib\\site-packages\\xgboost\\data.py\", line 1315, in _proxy_transform\n    arr, feature_names, feature_types = _transform_pandas_df(\n                                        ^^^^^^^^^^^^^^^^^^^^^\n  File \"E:\\005-freelancing\\daneshkar\\Class\\Data Science and Machine Learning\\001.ِData Science Project 2\\venv_movie\\Lib\\site-packages\\xgboost\\data.py\", line 490, in _transform_pandas_df\n    _invalid_dataframe_dtype(data)\n  File \"E:\\005-freelancing\\daneshkar\\Class\\Data Science and Machine Learning\\001.ِData Science Project 2\\venv_movie\\Lib\\site-packages\\xgboost\\data.py\", line 308, in _invalid_dataframe_dtype\n    raise ValueError(msg)\nValueError: DataFrame.dtypes for data must be int, float, bool or category. When categorical type is supplied, The experimental DMatrix parameter`enable_categorical` must be set to `True`.  Invalid columns:Action: object, Adventure: object, Animation: object, Comedy: object, Crime: object, Drama: object\n"
     ]
    }
   ],
   "source": [
    "from sklearn.ensemble import RandomForestClassifier\n",
    "from sklearn.tree import DecisionTreeClassifier\n",
    "from sklearn.linear_model import LogisticRegression\n",
    "from xgboost import XGBClassifier\n",
    "\n",
    "# Update models dictionary\n",
    "models = {\n",
    "    'RandomForest': RandomForestClassifier(),\n",
    "    'DT': DecisionTreeClassifier(),\n",
    "    'LogisticRegression': LogisticRegression(),\n",
    "    'XGBoost': XGBClassifier()\n",
    "}\n",
    "\n",
    "# Update param_grids dictionary\n",
    "param_grids = {\n",
    "    'RandomForest': {\n",
    "        'n_estimators': [100, 200],\n",
    "        'min_samples_split': [2, 5],\n",
    "        'min_samples_leaf': [5, 10]\n",
    "    },\n",
    "    'DT': {\n",
    "        'min_samples_split': [2, 5],\n",
    "        'min_samples_leaf': [5, 10]\n",
    "    },\n",
    "    'LogisticRegression': {\n",
    "        'penalty': ['None', 'l2'],\n",
    "        'C': [0.1, 1, 10]\n",
    "    },\n",
    "    'XGBoost': {\n",
    "        'n_estimators': [100, 200],\n",
    "        'learning_rate': [0.01, 0.1, 0.2],\n",
    "        'max_depth': [3, 4, 5]\n",
    "    }\n",
    "}\n",
    "\n",
    "# Example usage:\n",
    "results = evaluate_models(models, param_grids, X_train, X_test, y_train, y_test)\n",
    "\n",
    "# Print results\n",
    "for name, result in results.items():\n",
    "    print(f\"{name} - Best Parameters: {result['params']}\")\n",
    "    print(f\"{name} - Accuracy: {result['accuracy']}\")\n",
    "    print(f\"{name} - Precision: {result['precision']}\")\n",
    "    print(f\"{name} - Recall: {result['recall']}\")\n",
    "    print(f\"{name} - F1-Score: {result['f1']}\")\n",
    "    print(f\"{name} - Confusion Matrix:\\n{result['confusion_matrix']}\\n\")\n"
   ]
  },
  {
   "cell_type": "code",
   "execution_count": 333,
   "id": "f70e1cbf",
   "metadata": {},
   "outputs": [
    {
     "data": {
      "image/png": "[encoded data removed]",
      "text/plain": [
       "<Figure size 1000x1200 with 4 Axes>"
      ]
     },
     "metadata": {},
     "output_type": "display_data"
    }
   ],
   "source": [
    "plot_metrics_comparison(results)"
   ]
  },
  {
   "cell_type": "code",
   "execution_count": 335,
   "id": "4bab193e",
   "metadata": {},
   "outputs": [
    {
     "data": {
      "image/png": "[encoded data removed]",
      "text/plain": [
       "<Figure size 640x480 with 2 Axes>"
      ]
     },
     "metadata": {},
     "output_type": "display_data"
    },
    {
     "data": {
      "image/png": "[encoded data removed]",
      "text/plain": [
       "<Figure size 640x480 with 2 Axes>"
      ]
     },
     "metadata": {},
     "output_type": "display_data"
    },
    {
     "data": {
      "image/png": "[encoded data removed]",
      "text/plain": [
       "<Figure size 640x480 with 2 Axes>"
      ]
     },
     "metadata": {},
     "output_type": "display_data"
    },
    {
     "data": {
      "image/png": "[encoded data removed]",
      "text/plain": [
       "<Figure size 640x480 with 2 Axes>"
      ]
     },
     "metadata": {},
     "output_type": "display_data"
    }
   ],
   "source": [
    "import matplotlib.pyplot as plt\n",
    "import seaborn as sns\n",
    "from sklearn.metrics import ConfusionMatrixDisplay\n",
    "\n",
    "\n",
    "# Example usage:\n",
    "plot_confusion_matrices(results, X_test, y_test)\n"
   ]
  },
  {
   "cell_type": "code",
   "execution_count": 336,
   "id": "077a56d8",
   "metadata": {},
   "outputs": [
    {
     "data": {
      "image/png": "[encoded data removed]",
      "text/plain": [
       "<Figure size 640x480 with 1 Axes>"
      ]
     },
     "metadata": {},
     "output_type": "display_data"
    }
   ],
   "source": [
    "# Example usage:\n",
    "plot_roc_auc(results, X_test, y_test)"
   ]
  },
  {
   "cell_type": "code",
   "execution_count": null,
   "id": "fe0dd80f",
   "metadata": {},
   "outputs": [],
   "source": []
  }
 ],
 "metadata": {
  "kernelspec": {
   "display_name": "my_project_env",
   "language": "python",
   "name": "my_project_env"
  },
  "language_info": {
   "codemirror_mode": {
    "name": "ipython",
    "version": 3
   },
   "file_extension": ".py",
   "mimetype": "text/x-python",
   "name": "python",
   "nbconvert_exporter": "python",
   "pygments_lexer": "ipython3",
   "version": "3.11.0"
  }
 },
 "nbformat": 4,
 "nbformat_minor": 5
}
