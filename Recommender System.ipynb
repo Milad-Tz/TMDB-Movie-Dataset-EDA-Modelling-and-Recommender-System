{
 "cells": [
  {
   "cell_type": "markdown",
   "id": "28747600",
   "metadata": {},
   "source": [
    "# Designing a Basic Recommender System using TMDB Dataset\n",
    "\n",
    "## Introduction\n",
    "\n",
    "In this notebook, we will explore the design and implementation of a basic recommender system using the TMDB (The Movie Database) dataset. Recommender systems are widely used in various domains to suggest items to users based on their preferences and behavior. There are several types of recommender systems, including Demographic Filtering, Collaborative Filtering, and Content-Based Filtering.\n",
    "\n",
    "## Types of Recommender Systems\n",
    "\n",
    "### 1. Demographic Filtering\n",
    "\n",
    "Demographic filtering recommends items based on demographic information such as age, gender, occupation, etc., without considering the user's preferences or behavior.\n",
    "\n",
    "### 2. Collaborative Filtering\n",
    "\n",
    "Collaborative filtering recommends items to users based on the preferences of other users. It can be user-based or item-based, where recommendations are made either by finding similar users or similar items.\n",
    "\n",
    "### 3. Content-Based Filtering\n",
    "\n",
    "Content-based filtering recommends items to users based on the features or characteristics of the items themselves. It analyzes the content of items and recommends similar items based on their attributes.\n",
    "\n",
    "## Steps in Designing the Recommender System\n",
    "\n",
    "### Step 1: Recommender System Based on Overview\n",
    "\n",
    "In this step, we will design a content-based recommender system that recommends movies based on their overview or summary.\n",
    "\n",
    "### Step 2: Recommender System Based on Actors and Directors\n",
    "\n",
    "Next, we will enhance the content-based recommender system by incorporating information about actors and directors. This will allow us to recommend movies based on the involvement of specific actors or directors.\n",
    "\n",
    "### Step 3: Recommender System Based on Actors, Directors, and Overview\n",
    "\n",
    "Building upon the previous step, we will create a more comprehensive recommender system that considers both the overview of the movies and the involvement of actors and directors.\n",
    "\n",
    "### Step 4: Recommender System Based on Actors, Directors, Overview, and Genres\n",
    "\n",
    "Finally, we will further refine our recommender system by including information about movie genres. This will enable us to recommend movies based on a combination of actors, directors, overview, and genres.\n",
    "\n",
    "## Conclusion\n",
    "\n",
    "In this notebook, we have demonstrated the design and implementation of a basic recommender system using content-based filtering techniques. By leveraging information about movies such as overview, actors, directors, and genres, we can provide personalized recommendations to users based on their preferences.\n"
   ]
  },
  {
   "cell_type": "code",
   "execution_count": null,
   "id": "521ad8d7",
   "metadata": {},
   "outputs": [],
   "source": [
    "import json\n",
    "import warnings\n",
    "from datetime import datetime\n",
    "\n",
    "import numpy as np\n",
    "import pandas as pd\n",
    "import matplotlib.pyplot as plt"
   ]
  },
  {
   "cell_type": "code",
   "execution_count": null,
   "id": "a2eff557",
   "metadata": {},
   "outputs": [],
   "source": [
    "warnings.filterwarnings('ignore')\n",
    "pd.set_option('display.max_columns', 70)"
   ]
  },
  {
   "cell_type": "code",
   "execution_count": null,
   "id": "08f679e7",
   "metadata": {},
   "outputs": [],
   "source": [
    "df = pd.read_csv('data.csv')"
   ]
  },
  {
   "cell_type": "code",
   "execution_count": null,
   "id": "5582ed9a",
   "metadata": {
    "scrolled": true
   },
   "outputs": [],
   "source": [
    "df.head()"
   ]
  },
  {
   "cell_type": "markdown",
   "id": "4188f4ed",
   "metadata": {},
   "source": [
    "## Recommender system based on overview"
   ]
  },
  {
   "cell_type": "markdown",
   "id": "bc1fdf23",
   "metadata": {},
   "source": [
    "1. **Data Preprocessing:**\n",
    "   - Extract the 'overview' column from the DataFrame `df`.\n",
    "   - Import necessary libraries such as `re`, `stopwords`, `WordNetLemmatizer`, and `TfidfVectorizer`.\n",
    "\n",
    "2. **Text Preprocessing:**\n",
    "   - Define a function `preprocess_text()` to preprocess each document (movie overview).\n",
    "     - Convert text to lowercase.\n",
    "     - Remove punctuation.\n",
    "     - Tokenize the text.\n",
    "     - Lemmatize tokens.\n",
    "     - Remove stop words.\n",
    "     - Join tokens back into processed text.\n",
    "\n",
    "3. **TF-IDF Vectorization:**\n",
    "   - Apply `preprocess_text()` to each document, resulting in a list of preprocessed documents.\n",
    "   - Initialize a `TfidfVectorizer` object.\n",
    "   - Fit the vectorizer to the preprocessed data and transform documents into a TF-IDF feature matrix.\n",
    "\n",
    "4. **Cosine Similarity Calculation:**\n",
    "   - Use `cosine_similarity()` to compute the cosine similarity matrix based on the TF-IDF feature matrix.\n",
    "\n",
    "5. **Recommender Function:**\n",
    "   - Define `recommender_function()` to generate movie recommendations based on a given movie title and the cosine similarity matrix.\n",
    "   - Take movie title and cosine similarity matrix as input.\n",
    "   - Retrieve index of given movie title from `indices`.\n",
    "   - If movie title is valid:\n",
    "     - Calculate similarity scores between given movie and all others.\n",
    "     - Create a DataFrame containing movie titles and similarity scores.\n",
    "     - Sort DataFrame in descending order of similarity scores.\n",
    "     - Return top N recommendations (excluding given movie).\n",
    "   - If movie title is not valid, print a message indicating it.\n",
    "\n",
    "6. **Example Usage:**\n",
    "   - Demonstrate usage of `recommender_function()` by passing the movie title \"The Avengers\" and cosine similarity matrix (`cosine_matrix_1`). This should return top recommended movies similar to \"The Avengers\".\n"
   ]
  },
  {
   "cell_type": "markdown",
   "id": "9f4c6ad7",
   "metadata": {},
   "source": [
    "### WordNetLemmatizer\n",
    "\n",
    "- **Purpose**: Word lemmatization reduces words to their base or dictionary form (lemma), ensuring that different inflected forms of a word are treated as the same word.\n",
    "- **Example**: Lemmatization converts words like \"running\" and \"ran\" to their base form \"run\".\n",
    "- **Importance**: It helps in standardizing the vocabulary, improving the effectiveness of downstream tasks such as vectorization and similarity calculation.\n",
    "- **Application**: In this code, `WordNetLemmatizer` from NLTK is used to lemmatize tokens extracted from movie overviews, ensuring consistency in word representation.\n",
    "\n",
    "### English Stopwords\n",
    "\n",
    "- **Purpose**: Stopwords are common words (e.g., \"the\", \"is\", \"and\") that are often removed during text preprocessing because they carry little meaning or significance.\n",
    "- **Example**: In the phrase \"The quick brown fox jumps over the lazy dog\", stopwords like \"the\", \"over\", and \"the\" contribute little to the meaning.\n",
    "- **Importance**: Removing stopwords reduces noise and dimensionality in the data, focusing on content-carrying words.\n",
    "- **Application**: In this code, a combination of NLTK's stopwords list and scikit-learn's built-in English stopwords (`ENGLISH_STOP_WORDS`) is used to filter out common stopwords during text preprocessing, enhancing the quality of the TF-IDF features and improving the accuracy of the recommender system.\n",
    "\n",
    "### TF-IDF Vectorization\n",
    "\n",
    "After preprocessing, TF-IDF vectorization is performed using `TfidfVectorizer` from scikit-learn. TF-IDF reflects the importance of words in documents relative to a collection of documents. Here's how TF-IDF vectorization works:\n",
    "\n",
    "- **Term Frequency (TF)**: Measures the frequency of a term (word) within a document. Words that appear more frequently are assigned higher weights.\n",
    "- **Inverse Document Frequency (IDF)**: Measures the rarity of a term across documents. Rare terms are assigned higher weights to emphasize their importance.\n",
    "\n",
    "TF-IDF is calculated as the product of TF and IDF. The resulting TF-IDF matrix represents each document as a vector in a high-dimensional space, where each dimension corresponds to a unique term."
   ]
  },
  {
   "cell_type": "code",
   "execution_count": null,
   "id": "8fcf4340",
   "metadata": {},
   "outputs": [],
   "source": [
    "import re\n",
    "from sklearn.feature_extraction.text import TfidfVectorizer\n",
    "from sklearn.feature_extraction.text import ENGLISH_STOP_WORDS\n",
    "from nltk.corpus import stopwords\n",
    "from nltk.stem import WordNetLemmatizer"
   ]
  },
  {
   "cell_type": "code",
   "execution_count": null,
   "id": "5537b6be",
   "metadata": {},
   "outputs": [],
   "source": [
    "#Replace NaN with an empty string\n",
    "df['overview'] = df['overview'].fillna('')"
   ]
  },
  {
   "cell_type": "code",
   "execution_count": null,
   "id": "11661be9",
   "metadata": {},
   "outputs": [],
   "source": [
    "df['overview']"
   ]
  },
  {
   "cell_type": "code",
   "execution_count": null,
   "id": "5015c45b",
   "metadata": {},
   "outputs": [],
   "source": [
    "documents = df['overview']"
   ]
  },
  {
   "cell_type": "code",
   "execution_count": null,
   "id": "6ffdfb1b",
   "metadata": {},
   "outputs": [],
   "source": [
    "# Initialize WordNetLemmatizer\n",
    "lemmatizer = WordNetLemmatizer()\n",
    "\n",
    "# Additional stop words\n",
    "custom_stopwords = set(stopwords.words('english')).union(ENGLISH_STOP_WORDS)\n",
    "\n",
    "# Function to preprocess text\n",
    "def preprocess_text(text):\n",
    "    # Convert text to lowercase\n",
    "    text = text.lower()\n",
    "    # Remove punctuation\n",
    "    text = re.sub(r'[^\\w\\s]', '', text)\n",
    "    # Tokenize the text\n",
    "    tokens = text.split()\n",
    "    # Lemmatize tokens\n",
    "    tokens = [lemmatizer.lemmatize(token) for token in tokens]\n",
    "    # Remove stop words\n",
    "    tokens = [token for token in tokens if token not in custom_stopwords]\n",
    "    # Join tokens back into text\n",
    "    text = ' '.join(tokens)\n",
    "    return text\n",
    "\n",
    "# Preprocess each document\n",
    "preprocessed_documents = [preprocess_text(doc) for doc in documents]"
   ]
  },
  {
   "cell_type": "code",
   "execution_count": null,
   "id": "39c46a0d",
   "metadata": {},
   "outputs": [],
   "source": [
    "# Create a TfidfVectorizer object with n-gram range from unigrams to trigrams\n",
    "# vectorizer = TfidfVectorizer(ngram_range=(1, 3))\n",
    "vectorizer = TfidfVectorizer()\n",
    "\n",
    "# Fit the vectorizer to the preprocessed data and transform the documents into a feature matrix\n",
    "X_overview = vectorizer.fit_transform(preprocessed_documents)\n",
    "\n",
    "# Print the TF-IDF feature matrix\n",
    "print(np.shape(X_overview.toarray()))"
   ]
  },
  {
   "cell_type": "code",
   "execution_count": null,
   "id": "5f4844f0",
   "metadata": {},
   "outputs": [],
   "source": [
    "import numpy as np\n",
    "\n",
    "# Get the feature names (tokens) from the vectorizer\n",
    "feature_names = vectorizer.get_feature_names_out()\n",
    "\n",
    "# Get the TF-IDF matrix\n",
    "tfidf_matrix = X_overview.toarray()\n",
    "\n",
    "# Calculate the mean TF-IDF score for each token across all documents\n",
    "mean_tfidf_scores = np.mean(tfidf_matrix, axis=0)\n",
    "\n",
    "# Create a dictionary mapping each token to its mean TF-IDF score\n",
    "token_tfidf_scores = dict(zip(feature_names, mean_tfidf_scores))\n",
    "\n",
    "# Sort the tokens by their mean TF-IDF scores\n",
    "sorted_tokens = sorted(token_tfidf_scores.items(), key=lambda x: x[1], reverse=True)\n",
    "\n",
    "# Print the sorted tokens with their mean TF-IDF scores\n",
    "for token, score in sorted_tokens:\n",
    "    print(f\"Token: {token}, Mean TF-IDF Score: {score}\")\n"
   ]
  },
  {
   "cell_type": "code",
   "execution_count": null,
   "id": "1fb00cc0",
   "metadata": {},
   "outputs": [],
   "source": [
    "# Compute the Cosine Similarity matrix based on the count_matrix\n",
    "from sklearn.metrics.pairwise import cosine_similarity\n",
    "\n",
    "cosine_matrix_1 = cosine_similarity(X_overview, X_overview)"
   ]
  },
  {
   "cell_type": "code",
   "execution_count": null,
   "id": "4fe23cb7",
   "metadata": {},
   "outputs": [],
   "source": [
    "cosine_matrix_1.shape"
   ]
  },
  {
   "cell_type": "code",
   "execution_count": null,
   "id": "ab75affb",
   "metadata": {},
   "outputs": [],
   "source": [
    "# Construct a reverse map of indices and movie titles using a dictionary\n",
    "indices = dict(zip(df['original_title'], df.index))"
   ]
  },
  {
   "cell_type": "code",
   "execution_count": null,
   "id": "d4e72432",
   "metadata": {
    "scrolled": true
   },
   "outputs": [],
   "source": [
    "indices"
   ]
  },
  {
   "cell_type": "code",
   "execution_count": null,
   "id": "d58103d3",
   "metadata": {},
   "outputs": [],
   "source": [
    "def recommender_function(title, cosine_matrix):\n",
    "    idx = indices.get(title)\n",
    "\n",
    "    if idx:\n",
    "        movie_scores = cosine_matrix[idx]\n",
    "\n",
    "        score_df = df[['original_title']]\n",
    "\n",
    "        score_df['score'] = movie_scores\n",
    "\n",
    "        score_df_sorted = score_df.sort_values(by='score', ascending=False)\n",
    "\n",
    "        top_N = 5\n",
    "        \n",
    "        score_df_sorted.iloc[1:top_N + 1].head()\n",
    "        \n",
    "        return score_df_sorted.iloc[1:top_N + 1]\n",
    "    \n",
    "    else:\n",
    "        print('not valid movie title')\n"
   ]
  },
  {
   "cell_type": "code",
   "execution_count": null,
   "id": "b7c60245",
   "metadata": {
    "scrolled": true
   },
   "outputs": [],
   "source": [
    "recommender_function('The Avengers', cosine_matrix_1)"
   ]
  },
  {
   "cell_type": "markdown",
   "id": "b897e203",
   "metadata": {},
   "source": [
    "## Recommender system basedon actors and director"
   ]
  },
  {
   "cell_type": "markdown",
   "id": "d5e546e5",
   "metadata": {},
   "source": [
    "## Recommender system based on actors and director\n",
    "\n",
    "This code segment implements a recommender system based on actors and directors. It extracts relevant information from the DataFrame such as movie titles, director names, and actor names. Then, it preprocesses the data by replacing missing values with empty strings, converting strings to lowercase, and removing spaces. After preprocessing, it combines the director name and actor names into a single column called 'actors_and_director'.\n",
    "\n",
    "### Data Preprocessing\n",
    "\n",
    "- **Handling Missing Values**: NaN values in the director and actor columns are replaced with empty strings.\n",
    "- **String Manipulation**: Director and actor names are converted to lowercase and spaces are removed to ensure uniformity.\n",
    "\n",
    "### Feature Engineering\n",
    "\n",
    "- **Combining Features**: The director name and actor names are concatenated into a single feature column 'actors_and_director', which represents the collective involvement of directors and actors in each movie.\n",
    "\n",
    "### Vectorization\n",
    "\n",
    "- **CountVectorizer**: The CountVectorizer from scikit-learn is utilized to convert the text data into a numerical format. It creates a bag-of-words representation, where each document is represented by a vector indicating the count of each word.\n",
    "\n",
    "### Cosine Similarity Calculation\n",
    "\n",
    "- **Cosine Similarity Matrix**: Cosine similarity is computed between each pair of documents based on their vectorized representations. This matrix quantifies the similarity between movies in terms of their actors and directors.\n",
    "\n",
    "### Recommender Function\n",
    "\n",
    "- **Input**: The function 'recommender_function' takes a movie title and cosine similarity matrix as input.\n",
    "- **Similarity Scores Calculation**: It computes similarity scores between the given movie and all other movies based on the cosine similarity matrix.\n",
    "- **Sorting and Recommendations**: The function sorts the movies based on similarity scores in descending order and returns the top N similar movies as recommendations.\n",
    "\n",
    "### Example Usage\n",
    "\n",
    "An example usage of the 'recommender_function' is provided, recommending similar movies to \"The Avengers\" based on the cosine similarity matrix 'cosine_matrix_2'. The function returns a DataFrame containing the top recommended movies along with their similarity scores.\n",
    "\n",
    "This approach leverages the collective influence of directors and actors to recommend similar movies, offering a different perspective compared to the overview-based recommender system.\n"
   ]
  },
  {
   "cell_type": "code",
   "execution_count": null,
   "id": "6ba1a5b5",
   "metadata": {},
   "outputs": [],
   "source": [
    "df.columns"
   ]
  },
  {
   "cell_type": "code",
   "execution_count": null,
   "id": "92070f74",
   "metadata": {},
   "outputs": [],
   "source": [
    "df2 = df[['original_title', 'director_name', 'actor_1_name', 'actor_2_name', 'actor_3_name']]"
   ]
  },
  {
   "cell_type": "code",
   "execution_count": null,
   "id": "dfae6d6c",
   "metadata": {},
   "outputs": [],
   "source": [
    "df2.head()"
   ]
  },
  {
   "cell_type": "code",
   "execution_count": null,
   "id": "879b2681",
   "metadata": {},
   "outputs": [],
   "source": [
    "#Replace NaN with an empty string\n",
    "df2['director_name'] = df2['director_name'].fillna('')\n",
    "df2['actor_1_name'] = df2['actor_1_name'].fillna('')\n",
    "df2['actor_2_name'] = df2['actor_2_name'].fillna('')\n",
    "df2['actor_3_name'] = df2['actor_3_name'].fillna('')"
   ]
  },
  {
   "cell_type": "code",
   "execution_count": null,
   "id": "92e4b455",
   "metadata": {},
   "outputs": [],
   "source": [
    "# Lowercase the strings and remove spaces\n",
    "df2['director_name'] = df2['director_name'].str.lower().str.replace(' ', '')\n",
    "df2['actor_1_name'] = df2['actor_1_name'].str.lower().str.replace(' ', '')\n",
    "df2['actor_2_name'] = df2['actor_2_name'].str.lower().str.replace(' ', '')\n",
    "df2['actor_3_name'] = df2['actor_3_name'].str.lower().str.replace(' ', '')\n",
    "\n",
    "# Create a new column 'actors_and_director' by combining director and actors\n",
    "df2['actors_and_director'] = df2['director_name'] + ' ' + df2['actor_1_name'] + ' ' + df2['actor_2_name'] + ' ' + df2['actor_3_name']\n",
    "\n",
    "# Print the DataFrame to see the new column\n",
    "df2.head()"
   ]
  },
  {
   "cell_type": "code",
   "execution_count": null,
   "id": "8b7fd1a8",
   "metadata": {},
   "outputs": [],
   "source": [
    "documents = df2['actors_and_director']"
   ]
  },
  {
   "cell_type": "code",
   "execution_count": null,
   "id": "e5e21fe2",
   "metadata": {},
   "outputs": [],
   "source": [
    "from sklearn.feature_extraction.text import CountVectorizer\n"
   ]
  },
  {
   "cell_type": "code",
   "execution_count": null,
   "id": "dff721f3",
   "metadata": {},
   "outputs": [],
   "source": [
    "# Create a CountVectorizer object with n-gram range from unigrams to trigrams\n",
    "vectorizer = CountVectorizer()\n",
    "\n",
    "# Fit the vectorizer to the preprocessed data and transform the documents into a feature matrix\n",
    "X_actors = vectorizer.fit_transform(documents)\n",
    "\n",
    "# Print the feature matrix\n",
    "print(X_actors.toarray())\n",
    "\n",
    "X_actors.shape"
   ]
  },
  {
   "cell_type": "code",
   "execution_count": null,
   "id": "ae24dd46",
   "metadata": {},
   "outputs": [],
   "source": [
    "cosine_matrix_2 = cosine_similarity(X_actors, X_actors)"
   ]
  },
  {
   "cell_type": "code",
   "execution_count": null,
   "id": "4ea3192e",
   "metadata": {},
   "outputs": [],
   "source": [
    "recommender_function('The Avengers', cosine_matrix_2)"
   ]
  },
  {
   "cell_type": "markdown",
   "id": "73b3d0f2",
   "metadata": {},
   "source": [
    "## Recommender system based on actors, directors and overview"
   ]
  },
  {
   "cell_type": "markdown",
   "id": "c615c0fb",
   "metadata": {},
   "source": [
    "## Recommender system based on actors, directors, and overview\n",
    "\n",
    "This code combines information from movie overviews, directors, and actors to create a comprehensive recommender system. It utilizes TF-IDF features extracted from movie overviews and bag-of-words representations of actors and directors, then calculates cosine similarity between movies based on these combined features.\n",
    "\n",
    "### Feature Combination\n",
    "\n",
    "- **TF-IDF Features**: TF-IDF features extracted from movie overviews represent the content and themes of each movie.\n",
    "- **Bag-of-Words Features**: Bag-of-words representations of actors and directors capture the involvement of key personnel in each movie.\n",
    "\n",
    "### Cosine Similarity Calculation\n",
    "\n",
    "- **Combined Feature Matrix**: TF-IDF features and bag-of-words representations are concatenated into a single feature matrix.\n",
    "- **Cosine Similarity Matrix**: Cosine similarity is computed between each pair of movies based on their combined features. This matrix reflects the overall similarity between movies, considering both content and personnel.\n",
    "\n",
    "### Recommender Function\n",
    "\n",
    "- **Input**: The function 'recommender_function' takes a movie title and cosine similarity matrix as input.\n",
    "- **Similarity Scores Calculation**: It computes similarity scores between the given movie and all other movies based on the cosine similarity matrix.\n",
    "- **Sorting and Recommendations**: The function sorts the movies based on similarity scores in descending order and returns the top N similar movies as recommendations.\n",
    "\n",
    "### Example Usage\n",
    "\n",
    "An example usage of the 'recommender_function' is provided, recommending similar movies to \"The Dark Knight Rises\" based on the cosine similarity matrix 'cosine_matrix_3'. The function returns a DataFrame containing the top recommended movies along with their similarity scores.\n",
    "\n",
    "By integrating information from movie overviews, directors, and actors, this recommender system offers more comprehensive and personalized recommendations, taking into account both content and personnel factors.\n"
   ]
  },
  {
   "cell_type": "code",
   "execution_count": null,
   "id": "620630e1",
   "metadata": {},
   "outputs": [],
   "source": [
    "X_total = np.concatenate((X_overview.toarray(), X_actors.toarray()), axis=1)"
   ]
  },
  {
   "cell_type": "code",
   "execution_count": null,
   "id": "5c7216d8",
   "metadata": {},
   "outputs": [],
   "source": [
    "X_actors.shape"
   ]
  },
  {
   "cell_type": "code",
   "execution_count": null,
   "id": "53c44a54",
   "metadata": {},
   "outputs": [],
   "source": [
    "X_overview.shape"
   ]
  },
  {
   "cell_type": "code",
   "execution_count": null,
   "id": "e5c5de12",
   "metadata": {},
   "outputs": [],
   "source": [
    "X_total.shape"
   ]
  },
  {
   "cell_type": "code",
   "execution_count": null,
   "id": "c524ecfd",
   "metadata": {},
   "outputs": [],
   "source": [
    "cosine_matrix_3 = cosine_similarity(X_total, X_total)"
   ]
  },
  {
   "cell_type": "code",
   "execution_count": null,
   "id": "6432df31",
   "metadata": {},
   "outputs": [],
   "source": [
    "recommender_function('The Dark Knight Rises', cosine_matrix_3)"
   ]
  },
  {
   "cell_type": "markdown",
   "id": "23f424fa",
   "metadata": {},
   "source": [
    "## Recommender system based on actors, directors, overview and genres"
   ]
  },
  {
   "cell_type": "markdown",
   "id": "93543c7e",
   "metadata": {},
   "source": [
    "This code extends the recommender system to incorporate information about movie genres in addition to actors, directors, and overviews. It preprocesses the genre data, combines it with existing features, and computes cosine similarity between movies based on the expanded feature set.\n",
    "\n",
    "### Genre Data Preprocessing\n",
    "\n",
    "- **Handling Missing Values**: NaN values in the genre column are replaced with empty strings.\n",
    "- **Rewriting Genres**: The 'rewrite_genres' function splits multiple genres and retains the first three genres if available, then combines them into a single string. This ensures uniformity and reduces complexity.\n",
    "- **Lowercasing**: Genre strings are converted to lowercase to ensure consistency.\n",
    "\n",
    "### Feature Engineering\n",
    "\n",
    "- **Combined Features**: The combined feature 'actors_and_director_genres' is created by concatenating information about actors, directors, and genres. This provides a comprehensive representation of each movie's personnel and thematic elements.\n",
    "\n",
    "### Vectorization\n",
    "\n",
    "- **CountVectorizer**: The CountVectorizer from scikit-learn is used to convert the textual data into numerical features. It creates a bag-of-words representation, capturing the presence of words (including actors, directors, and genres) in each movie.\n",
    "\n",
    "### Cosine Similarity Calculation\n",
    "\n",
    "- **Combined Feature Matrix**: TF-IDF features from overviews and bag-of-words representations from actors, directors, and genres are concatenated into a single feature matrix.\n",
    "- **Cosine Similarity Matrix**: Cosine similarity is computed between each pair of movies based on their combined features. This matrix reflects the overall similarity between movies, considering content, personnel, and thematic elements.\n",
    "\n",
    "### Example Usage\n",
    "\n",
    "Example usages of the 'recommender_function' are provided, recommending similar movies to both \"The Dark Knight Rises\" and \"The Godfather\" based on the cosine similarity matrix 'cosine_matrix_4'. The function returns DataFrames containing the top recommended movies along with their similarity scores.\n",
    "\n",
    "By incorporating genre information, this enhanced recommender system offers more refined and tailored recommendations, considering not only the personnel involved but also the thematic elements and genre preferences.\n"
   ]
  },
  {
   "cell_type": "code",
   "execution_count": null,
   "id": "7adbc16d",
   "metadata": {},
   "outputs": [],
   "source": [
    "df['genres'] = df['genres'].fillna('')"
   ]
  },
  {
   "cell_type": "code",
   "execution_count": null,
   "id": "556846b8",
   "metadata": {},
   "outputs": [],
   "source": [
    "def rewrite_genres(genres):\n",
    "    \n",
    "    genres_list = genres.split('|')\n",
    "    \n",
    "    if len(genres_list) > 2:\n",
    "        return genres_list[0] + \" \" + genres_list[1] + \" \" + genres_list[2] + \" \" \n",
    "    \n",
    "    elif len(genres_list) == 2:\n",
    "        return genres_list[0] + \" \" + genres_list[1]\n",
    "    \n",
    "    elif len(genres_list) == 1:\n",
    "        return genres_list[0] \n",
    "    \n",
    "    else:\n",
    "        return \"\""
   ]
  },
  {
   "cell_type": "code",
   "execution_count": null,
   "id": "8f1a04bf",
   "metadata": {},
   "outputs": [],
   "source": [
    "df2['genres'] = df['genres'].apply(rewrite_genres)"
   ]
  },
  {
   "cell_type": "code",
   "execution_count": null,
   "id": "014710b8",
   "metadata": {},
   "outputs": [],
   "source": [
    "df2['genres'] = df2['genres'].apply(str.lower)"
   ]
  },
  {
   "cell_type": "code",
   "execution_count": null,
   "id": "1e9d69de",
   "metadata": {},
   "outputs": [],
   "source": [
    "df2.head()"
   ]
  },
  {
   "cell_type": "code",
   "execution_count": null,
   "id": "0f6689a0",
   "metadata": {},
   "outputs": [],
   "source": [
    "df2['actors_and_director_genres'] = df2['actors_and_director'] + ' ' + df2['genres']\n",
    "df2['actors_and_director_genres'][0]"
   ]
  },
  {
   "cell_type": "code",
   "execution_count": null,
   "id": "b76b991b",
   "metadata": {},
   "outputs": [],
   "source": [
    "documents = df2['actors_and_director_genres']"
   ]
  },
  {
   "cell_type": "code",
   "execution_count": null,
   "id": "c57dca57",
   "metadata": {},
   "outputs": [],
   "source": [
    "# Create a CountVectorizer object with n-gram range from unigrams to trigrams\n",
    "vectorizer = CountVectorizer()\n",
    "\n",
    "# Fit the vectorizer to the preprocessed data and transform the documents into a feature matrix\n",
    "X_actors_genres = vectorizer.fit_transform(documents)\n",
    "\n",
    "# Print the feature matrix\n",
    "print(X_actors_genres.toarray())\n",
    "\n",
    "X_actors_genres.shape"
   ]
  },
  {
   "cell_type": "code",
   "execution_count": null,
   "id": "98aa8c92",
   "metadata": {},
   "outputs": [],
   "source": [
    "X_total = np.concatenate((X_overview.toarray(), X_actors_genres.toarray()), axis=1)"
   ]
  },
  {
   "cell_type": "code",
   "execution_count": null,
   "id": "b73ad029",
   "metadata": {},
   "outputs": [],
   "source": [
    "X_total.shape"
   ]
  },
  {
   "cell_type": "code",
   "execution_count": null,
   "id": "0e090676",
   "metadata": {},
   "outputs": [],
   "source": [
    "cosine_matrix_4 = cosine_similarity(X_total, X_total)"
   ]
  },
  {
   "cell_type": "code",
   "execution_count": null,
   "id": "5bd466b3",
   "metadata": {},
   "outputs": [],
   "source": [
    "recommender_function('The Dark Knight Rises', cosine_matrix_4)"
   ]
  },
  {
   "cell_type": "code",
   "execution_count": null,
   "id": "06a56802",
   "metadata": {},
   "outputs": [],
   "source": [
    "recommender_function('The Godfather', cosine_matrix_4)"
   ]
  },
  {
   "cell_type": "code",
   "execution_count": null,
   "id": "758761ea",
   "metadata": {},
   "outputs": [],
   "source": [
    "\"\"\"\n",
    "suggestion type:\n",
    "\n",
    "1: base on overview\n",
    "2: base on actors and director\n",
    "3: base on actors and director and overview\n",
    "4: base on actors, director, overview and genres\n",
    "\"\"\"\n",
    "title = 'The Godfather'\n",
    "suggestion_type = 4\n",
    "    \n",
    "cosine_matrix_name = 'cosine_matrix_' + str(int(suggestion_type))\n",
    "\n",
    "cosine_matrix_variable = globals()[cosine_matrix_name]\n",
    "\n",
    "# Assuming recommender_function is defined elsewhere\n",
    "recommender_function(title, cosine_matrix_variable)"
   ]
  },
  {
   "cell_type": "code",
   "execution_count": null,
   "id": "b253176f",
   "metadata": {},
   "outputs": [],
   "source": []
  },
  {
   "cell_type": "code",
   "execution_count": null,
   "id": "0c2a399f",
   "metadata": {},
   "outputs": [],
   "source": []
  }
 ],
 "metadata": {
  "kernelspec": {
   "display_name": "my_project_env",
   "language": "python",
   "name": "my_project_env"
  },
  "language_info": {
   "codemirror_mode": {
    "name": "ipython",
    "version": 3
   },
   "file_extension": ".py",
   "mimetype": "text/x-python",
   "name": "python",
   "nbconvert_exporter": "python",
   "pygments_lexer": "ipython3",
   "version": "3.11.0"
  }
 },
 "nbformat": 4,
 "nbformat_minor": 5
}
